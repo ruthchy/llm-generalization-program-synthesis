{
 "cells": [
  {
   "cell_type": "code",
   "execution_count": 1,
   "metadata": {},
   "outputs": [],
   "source": [
    "import os\n",
    "os.environ['CUDA_DEVICE_ORDER']='PCI_BUS_ID'\n",
    "os.environ['CUDA_VISIBLE_DEVICES'] = '3'"
   ]
  },
  {
   "cell_type": "markdown",
   "metadata": {},
   "source": [
    "# Fine-tuning Pipeline"
   ]
  },
  {
   "cell_type": "code",
   "execution_count": 2,
   "metadata": {},
   "outputs": [
    {
     "name": "stdout",
     "output_type": "stream",
     "text": [
      "🦥 Unsloth: Will patch your computer to enable 2x faster free finetuning.\n",
      "🦥 Unsloth Zoo will now patch everything to make training faster!\n"
     ]
    },
    {
     "name": "stderr",
     "output_type": "stream",
     "text": [
      "\u001b[34m\u001b[1mwandb\u001b[0m: Currently logged in as: \u001b[33mpriscillachyrva\u001b[0m (\u001b[33mpriscillachyrva-university-mannheim\u001b[0m). Use \u001b[1m`wandb login --relogin`\u001b[0m to force relogin\n",
      "\u001b[34m\u001b[1mwandb\u001b[0m: Using wandb-core as the SDK backend.  Please refer to https://wandb.me/wandb-core for more information.\n"
     ]
    },
    {
     "data": {
      "text/html": [
       "Tracking run with wandb version 0.19.4"
      ],
      "text/plain": [
       "<IPython.core.display.HTML object>"
      ]
     },
     "metadata": {},
     "output_type": "display_data"
    },
    {
     "data": {
      "text/html": [
       "Run data is saved locally in <code>/ceph/pratz/GitHub_repos/master-thesis/wandb/run-20250128_110756-hzm5jqou</code>"
      ],
      "text/plain": [
       "<IPython.core.display.HTML object>"
      ]
     },
     "metadata": {},
     "output_type": "display_data"
    },
    {
     "data": {
      "text/html": [
       "Syncing run <strong><a href='https://wandb.ai/priscillachyrva-university-mannheim/code-llama-finetuning/runs/hzm5jqou' target=\"_blank\">fine-tune-semantic-length-generalization-ascii-vs-ascii-desc_202501281107</a></strong> to <a href='https://wandb.ai/priscillachyrva-university-mannheim/code-llama-finetuning' target=\"_blank\">Weights & Biases</a> (<a href='https://wandb.me/developer-guide' target=\"_blank\">docs</a>)<br>"
      ],
      "text/plain": [
       "<IPython.core.display.HTML object>"
      ]
     },
     "metadata": {},
     "output_type": "display_data"
    },
    {
     "data": {
      "text/html": [
       " View project at <a href='https://wandb.ai/priscillachyrva-university-mannheim/code-llama-finetuning' target=\"_blank\">https://wandb.ai/priscillachyrva-university-mannheim/code-llama-finetuning</a>"
      ],
      "text/plain": [
       "<IPython.core.display.HTML object>"
      ]
     },
     "metadata": {},
     "output_type": "display_data"
    },
    {
     "data": {
      "text/html": [
       " View run at <a href='https://wandb.ai/priscillachyrva-university-mannheim/code-llama-finetuning/runs/hzm5jqou' target=\"_blank\">https://wandb.ai/priscillachyrva-university-mannheim/code-llama-finetuning/runs/hzm5jqou</a>"
      ],
      "text/plain": [
       "<IPython.core.display.HTML object>"
      ]
     },
     "metadata": {},
     "output_type": "display_data"
    },
    {
     "data": {
      "text/html": [
       "<button onClick=\"this.nextSibling.style.display='block';this.style.display='none';\">Display W&B run</button><iframe src='https://wandb.ai/priscillachyrva-university-mannheim/code-llama-finetuning/runs/hzm5jqou?jupyter=true' style='border:none;width:100%;height:420px;display:none;'></iframe>"
      ],
      "text/plain": [
       "<wandb.sdk.wandb_run.Run at 0x7f55bd0cafb0>"
      ]
     },
     "execution_count": 2,
     "metadata": {},
     "output_type": "execute_result"
    }
   ],
   "source": [
    "# load libraries and model from HF\n",
    "import torch\n",
    "import pandas as pd\n",
    "import wandb\n",
    "from trl import SFTTrainer\n",
    "from datasets import load_dataset\n",
    "from transformers import AutoTokenizer, TrainingArguments\n",
    "from unsloth import FastLanguageModel, is_bfloat16_supported\n",
    "\n",
    "model_name = \"codellama/CodeLlama-7b-hf\"\n",
    "max_seq_length = 2048\n",
    "\n",
    "timestamp = pd.Timestamp.now().strftime(\"%Y%m%d%H%M\")\n",
    "# Initialize WandB (ensure you've logged in using `wandb login`)\n",
    "wandb.init(project=\"code-llama-finetuning\", \n",
    "           name=f\"fine-tune-semantic-length-generalization-ascii-vs-ascii-desc_{timestamp}\",\n",
    "           config={\"learning_rate\": 5e-5, \"num_train_epochs\": 3, \"max_seq_length\": max_seq_length, \"num_epochs\": 3,})"
   ]
  },
  {
   "cell_type": "code",
   "execution_count": 3,
   "metadata": {},
   "outputs": [
    {
     "name": "stdout",
     "output_type": "stream",
     "text": [
      "==((====))==  Unsloth 2024.12.4: Fast Llama patching. Transformers:4.46.3.\n",
      "   \\\\   /|    GPU: NVIDIA RTX A6000. Max memory: 47.529 GB. Platform: Linux.\n",
      "O^O/ \\_/ \\    Torch: 2.5.1. CUDA: 8.6. CUDA Toolkit: 12.1. Triton: 3.1.0\n",
      "\\        /    Bfloat16 = TRUE. FA [Xformers = 0.0.28.post3. FA2 = False]\n",
      " \"-____-\"     Free Apache license: http://github.com/unslothai/unsloth\n",
      "Unsloth: Fast downloading is enabled - ignore downloading bars which are red colored!\n"
     ]
    },
    {
     "name": "stderr",
     "output_type": "stream",
     "text": [
      "Unsloth 2024.12.4 patched 32 layers with 32 QKV layers, 32 O layers and 32 MLP layers.\n"
     ]
    }
   ],
   "source": [
    "# Model configuration\n",
    "model, tokenizer = FastLanguageModel.from_pretrained(\n",
    "    model_name,\n",
    "    max_seq_length=max_seq_length,\n",
    "    load_in_4bit=True,\n",
    "    dtype=None,\n",
    ")\n",
    "# if tokenizer.pad_token is None then an error will be raised I explicitly set it to '[PAD]'\n",
    "if tokenizer.pad_token == None:\n",
    "    tokenizer.pad_token = tokenizer.eos_token or '[PAD]'\n",
    "    if tokenizer.pad_token == '[PAD]':\n",
    "        tokenizer.add_special_tokens({'pad_token': '[PAD]'})\n",
    "    print(f\"Added padding token: {tokenizer.pad_token}\")\n",
    "# Add custom tokens to the tokenizer\n",
    "#custom_tokens = [    \"<sys_prompt>\",     \"</sys_prompt>\",    \"<custom_library_desc>\",    \"</custom_library_desc>\",    \"<task>\",     \"</task>\",    \"<output>\",     \"</output>\"\n",
    "#]\n",
    "#tokenizer.add_special_tokens({'additional_special_tokens': custom_tokens})\n",
    "#special_tokens = tokenizer.special_tokens_map\n",
    "#print(\"Special tokens in the tokenizer:\")\n",
    "#for token_name, token_value in special_tokens.items():\n",
    "#    print(f\"{token_name}: {token_value}\")\n",
    "\n",
    "# LoRA (16-bit) for PEFT => this means I need 16GB of VRAM when training the 7B-codelama model (Alternative: QLoRA could be specified with 8GB VRAM)\n",
    "model = FastLanguageModel.get_peft_model(\n",
    "    model,\n",
    "    r=16,\n",
    "    lora_alpha=16,\n",
    "    lora_dropout=0,\n",
    "    target_modules=[\"q_proj\", \"k_proj\", \"v_proj\", \"up_proj\", \"down_proj\", \"o_proj\", \"gate_proj\"], \n",
    "    use_rslora=True,\n",
    "    use_gradient_checkpointing=\"unsloth\"\n",
    ")"
   ]
  },
  {
   "cell_type": "markdown",
   "metadata": {},
   "source": [
    "## Load and Preprocess Train, Validation, and Test-Data"
   ]
  },
  {
   "cell_type": "code",
   "execution_count": 4,
   "metadata": {},
   "outputs": [],
   "source": [
    "# load the datasets and access the splits\n",
    "# Input-Experiment 1: ASCII-art\n",
    "#dataset_1 = load_dataset(\"ruthchy/semantic-length-generalization-logo-data-ascii\")\n",
    "#train_dataset_1, val_dataset_1, test_dataset_1 = dataset_1[\"train\"], dataset_1[\"validation\"], dataset_1[\"test\"]\n",
    "\n",
    "# Input-Experiment 2: ASCII-art + Description\n",
    "dataset_2 = load_dataset(\"ruthchy/semantic-length-generalization-logo-data-ascii-desc\")\n",
    "train_dataset_2, val_dataset_2, test_dataset_2 = dataset_2[\"train\"], dataset_2[\"validation\"], dataset_2[\"test\"]"
   ]
  },
  {
   "cell_type": "code",
   "execution_count": 13,
   "metadata": {},
   "outputs": [
    {
     "name": "stdout",
     "output_type": "stream",
     "text": [
      "ASCII-art Dataset:\n",
      "\n",
      " \n",
      "\n",
      "ASCII-art + Description Dataset:\n",
      "Minimum Input Length: 1609\n",
      "Average Input Length: 1624.9087261785355\n",
      "Maximum Input Length: 1631\n",
      "\n",
      "\n",
      "Minimum Program Length: 106\n",
      "Average Program Length: 148.1654964894684\n",
      "Maximum Program Length: 244\n",
      "None\n"
     ]
    }
   ],
   "source": [
    "def inquery_tokenlength(df):\n",
    "    # Calculate token lengths for 'Input' and 'Program' columns\n",
    "    input_lengths = [len(tokenizer.tokenize(example['Input'])) for example in df]\n",
    "    program_lengths = [len(tokenizer.tokenize(example['Program'])) for example in df]\n",
    "\n",
    "    # Calculate average and maximum lengths\n",
    "    avg_input_length = sum(input_lengths) / len(input_lengths)\n",
    "    min_input_length = min(input_lengths)\n",
    "    max_input_length = max(input_lengths)\n",
    "\n",
    "    avg_program_length = sum(program_lengths) / len(program_lengths)\n",
    "    min_program_length = min(program_lengths)\n",
    "    max_program_length = max(program_lengths)\n",
    "\n",
    "    print(f\"Minimum Input Length: {min_input_length}\")\n",
    "    print(f\"Average Input Length: {avg_input_length}\")\n",
    "    print(f\"Maximum Input Length: {max_input_length}\")\n",
    "    print(\"\\n\")\n",
    "    print(f\"Minimum Program Length: {min_program_length}\")\n",
    "    print(f\"Average Program Length: {avg_program_length}\")\n",
    "    print(f\"Maximum Program Length: {max_program_length}\")\n",
    "\n",
    "# Print token lengths for ASCII-art dataset\n",
    "print(\"ASCII-art Dataset:\")\n",
    "#print(inquery_tokenlength(test_dataset_1))\n",
    "print(\"\\n \\n\")\n",
    "# Print token lengths for ASCII-art + Description dataset\n",
    "print(\"ASCII-art + Description Dataset:\")\n",
    "print(inquery_tokenlength(test_dataset_2))"
   ]
  },
  {
   "cell_type": "code",
   "execution_count": 5,
   "metadata": {},
   "outputs": [],
   "source": [
    "# Tokenize the datasets\n",
    "def preprocess_function(examples):\n",
    "    return tokenizer(\n",
    "        examples[\"Input\"],  \n",
    "        text_pair=examples[\"Program\"],  \n",
    "        truncation=True,\n",
    "        max_length=max_seq_length,\n",
    "        padding=True,\n",
    "    )\n",
    "\n",
    "# Apply the tokenizer to the datasets\n",
    "#tokenized_train_dataset_1 = train_dataset_1.map(preprocess_function, batched=True, num_proc=4)\n",
    "#tokenized_val_dataset_1 = val_dataset_1.map(preprocess_function, batched=True, num_proc=4)\n",
    "#tokenized_test_dataset_1 = test_dataset_1.map(preprocess_function, batched=True, num_proc=4)\n",
    "\n",
    "tokenized_train_dataset_2 = train_dataset_2.map(preprocess_function, batched=True, num_proc=4)\n",
    "tokenized_val_dataset_2 = val_dataset_2.map(preprocess_function, batched=True, num_proc=4)\n",
    "tokenized_test_dataset_2 = test_dataset_2.map(preprocess_function, batched=True, num_proc=4)"
   ]
  },
  {
   "cell_type": "markdown",
   "metadata": {},
   "source": [
    "## Define the Fine-Tuning Trainer"
   ]
  },
  {
   "cell_type": "code",
   "execution_count": 6,
   "metadata": {},
   "outputs": [],
   "source": [
    "# Define a base TrainingArguments\n",
    "#training_args_1 = TrainingArguments(\n",
    "#    output_dir=\"./results/01_expt\",\n",
    "#    num_train_epochs=3,\n",
    "#    per_device_train_batch_size=8,\n",
    "#    gradient_accumulation_steps=4,\n",
    "#    eval_strategy=\"steps\",\n",
    "#    save_strategy=\"steps\",\n",
    "#    save_steps = 100,\n",
    "#    learning_rate=5e-5,\n",
    "#    max_new_tokens=300, # the longest Program in test is 244 so 300 is enough\n",
    "#    fp16=not is_bfloat16_supported(),\n",
    "#    bf16=is_bfloat16_supported(),\n",
    "#    report_to=[\"wandb\"],\n",
    "#    hub_model_id=\"ruthchy/01_expt_code-llama-ascii\", \n",
    "#    push_to_hub=True,\n",
    "#    logging_steps = 1,\n",
    "#)\n",
    "\n",
    "\n",
    "training_args_2 = TrainingArguments(\n",
    "    output_dir=\"./results/02_expt\",\n",
    "    num_train_epochs=3,\n",
    "    per_device_train_batch_size=8,\n",
    "    gradient_accumulation_steps=4,\n",
    "    eval_strategy=\"steps\",\n",
    "    save_strategy=\"steps\",\n",
    "    save_steps=100,\n",
    "    learning_rate=5e-5,\n",
    "    #max_new_tokens=300, # the longest Program in test is 244 so 300 is enough\n",
    "    fp16=not is_bfloat16_supported(),\n",
    "    bf16=is_bfloat16_supported(),\n",
    "    report_to=[\"wandb\"],\n",
    "    hub_model_id=\"ruthchy/02_expt_code-llama-ascii-desc\", \n",
    "    push_to_hub=True,\n",
    "    logging_steps = 1,\n",
    ")\n",
    "\n",
    "\n",
    "# Create trainers\n",
    "#trainer_1 = SFTTrainer(\n",
    "#    model=model,\n",
    "#    tokenizer=tokenizer,\n",
    "#    train_dataset=tokenized_train_dataset_1,\n",
    "#    eval_dataset=tokenized_val_dataset_1,\n",
    "#    args=training_args_1,\n",
    "#    max_seq_length=max_seq_length,\n",
    "#)\n",
    "\n",
    "trainer_2 = SFTTrainer(\n",
    "    model=model,\n",
    "    tokenizer=tokenizer,\n",
    "    train_dataset=tokenized_train_dataset_2,\n",
    "    eval_dataset=tokenized_val_dataset_2,\n",
    "    args=training_args_2,\n",
    "    max_seq_length=max_seq_length,\n",
    ")"
   ]
  },
  {
   "cell_type": "markdown",
   "metadata": {},
   "source": [
    "### Run Fine-tuning"
   ]
  },
  {
   "cell_type": "code",
   "execution_count": null,
   "metadata": {},
   "outputs": [
    {
     "name": "stderr",
     "output_type": "stream",
     "text": [
      "==((====))==  Unsloth - 2x faster free finetuning | Num GPUs = 1\n",
      "   \\\\   /|    Num examples = 8,006 | Num Epochs = 3\n",
      "O^O/ \\_/ \\    Batch size per device = 8 | Gradient Accumulation steps = 4\n",
      "\\        /    Total batch size = 32 | Total steps = 750\n",
      " \"-____-\"     Number of trainable parameters = 39,976,960\n",
      "\u001b[34m\u001b[1mwandb\u001b[0m: \u001b[33mWARNING\u001b[0m The `run_name` is currently set to the same value as `TrainingArguments.output_dir`. If this was not intended, please specify a different run name by setting the `TrainingArguments.run_name` parameter.\n"
     ]
    },
    {
     "data": {
      "text/html": [
       "\n",
       "    <div>\n",
       "      \n",
       "      <progress value='8' max='750' style='width:300px; height:20px; vertical-align: middle;'></progress>\n",
       "      [  8/750 33:01 < 68:04:28, 0.00 it/s, Epoch 0.03/3]\n",
       "    </div>\n",
       "    <table border=\"1\" class=\"dataframe\">\n",
       "  <thead>\n",
       " <tr style=\"text-align: left;\">\n",
       "      <th>Step</th>\n",
       "      <th>Training Loss</th>\n",
       "      <th>Validation Loss</th>\n",
       "    </tr>\n",
       "  </thead>\n",
       "  <tbody>\n",
       "    <tr>\n",
       "      <td>1</td>\n",
       "      <td>0.679200</td>\n",
       "      <td>0.698058</td>\n",
       "    </tr>\n",
       "    <tr>\n",
       "      <td>2</td>\n",
       "      <td>0.699600</td>\n",
       "      <td>0.687387</td>\n",
       "    </tr>\n",
       "    <tr>\n",
       "      <td>3</td>\n",
       "      <td>0.694900</td>\n",
       "      <td>0.673464</td>\n",
       "    </tr>\n",
       "    <tr>\n",
       "      <td>4</td>\n",
       "      <td>0.659400</td>\n",
       "      <td>0.656245</td>\n",
       "    </tr>\n",
       "    <tr>\n",
       "      <td>5</td>\n",
       "      <td>0.644400</td>\n",
       "      <td>0.636247</td>\n",
       "    </tr>\n",
       "    <tr>\n",
       "      <td>6</td>\n",
       "      <td>0.638000</td>\n",
       "      <td>0.614475</td>\n",
       "    </tr>\n",
       "  </tbody>\n",
       "</table><p>"
      ],
      "text/plain": [
       "<IPython.core.display.HTML object>"
      ]
     },
     "metadata": {},
     "output_type": "display_data"
    }
   ],
   "source": [
    "trainer_2.train()"
   ]
  },
  {
   "cell_type": "code",
   "execution_count": null,
   "metadata": {},
   "outputs": [],
   "source": [
    "results_1 = trainer_1.evaluate(tokenized_test_dataset_1)\n",
    "wandb.log({\"Experiment 1 Results\": results_1})"
   ]
  },
  {
   "cell_type": "code",
   "execution_count": null,
   "metadata": {},
   "outputs": [],
   "source": [
    "def convert_logits_to_str(predictions):\n",
    "    predicted_token_ids = torch.tensor(predictions.predictions).argmax(dim=-1)\n",
    "    predicted_texts = [tokenizer.decode(ids, skip_special_tokens=True) for ids in predicted_token_ids]\n"
   ]
  },
  {
   "cell_type": "code",
   "execution_count": 2,
   "metadata": {},
   "outputs": [],
   "source": [
    "import sys\n",
    "import os\n",
    "original_sys_path = sys.path.copy()\n",
    "try:\n",
    "    synthetic_data_path = os.path.abspath(\"synthetic_data\")\n",
    "    sys.path.append(synthetic_data_path)\n",
    "    from _4_logo_graphic_generator_v1 import PseudoProgramInterpreter as PseudoProgramInterpreter_v1\n",
    "    from _5_ascii_processor import ASCIIProcessor\n",
    "finally:\n",
    "    sys.path = original_sys_path"
   ]
  },
  {
   "cell_type": "code",
   "execution_count": null,
   "metadata": {},
   "outputs": [],
   "source": [
    "model_path = \"ruthchy/01_expt_code-llama-ascii\"\n"
   ]
  },
  {
   "cell_type": "code",
   "execution_count": null,
   "metadata": {},
   "outputs": [],
   "source": [
    "tokenized_test_dataset_copy_1 = tokenized_test_dataset_1.copy()\n",
    "\n",
    "# Remove the \"Program\" column since it represents the ground truth to be predicted\n",
    "tokenized_test_dataset_1 = tokenized_test_dataset_1.remove_columns(\"Program\")\n",
    "\n",
    "# Predict on the test dataset\n",
    "predictions = trainer_1.predict(tokenized_test_dataset_1)\n",
    "\n",
    "# Convert logits to readable text\n",
    "predicted_token_ids = torch.tensor(predictions.predictions).argmax(dim=-1)\n",
    "predicted_texts = [tokenizer.decode(ids, skip_special_tokens=True) for ids in predicted_token_ids]\n",
    "\n",
    "# Add predictions to the dataset\n",
    "tokenized_test_dataset_1 = tokenized_test_dataset_1.add_column(\"predicted_output\", predicted_texts)\n"
   ]
  },
  {
   "cell_type": "code",
   "execution_count": null,
   "metadata": {},
   "outputs": [],
   "source": [
    "# Train and evaluate\n",
    "# Fine-tune Input-Experiment 1: ASCII-art\n",
    "trainer_1.train()\n",
    "results_1 = trainer_1.evaluate(tokenized_test_dataset_1)\n",
    "wandb.log({\"Experiment 1 Results\": results_1})\n",
    "\n",
    "# Fine-tune Input-Experiment 2: ASCII-art + Description\n",
    "trainer_2.train()\n",
    "results_2 = trainer_2.evaluate(tokenized_test_dataset_2)\n",
    "wandb.log({\"Experiment 2 Results\": results_2})\n",
    "\n",
    "print(\"Experiment 1 Results:\", results_1)\n",
    "print(\"Experiment 2 Results:\", results_2)"
   ]
  },
  {
   "cell_type": "markdown",
   "metadata": {},
   "source": [
    "## Evaluate the Fine-Tuned Models"
   ]
  },
  {
   "cell_type": "code",
   "execution_count": null,
   "metadata": {},
   "outputs": [],
   "source": [
    "# Evaluate Experiment 1\n",
    "results_1 = trainer_1.evaluate(tokenized_test_dataset_1)\n",
    "print(\"Experiment 1 Results:\", results_1)\n",
    "\n",
    "# Evaluate Experiment 2\n",
    "results_2 = trainer_2.evaluate(tokenized_test_dataset_2)\n",
    "print(\"Experiment 2 Results:\", results_2)"
   ]
  }
 ],
 "metadata": {
  "kernelspec": {
   "display_name": "ReGAL_env",
   "language": "python",
   "name": "python3"
  },
  "language_info": {
   "codemirror_mode": {
    "name": "ipython",
    "version": 3
   },
   "file_extension": ".py",
   "mimetype": "text/x-python",
   "name": "python",
   "nbconvert_exporter": "python",
   "pygments_lexer": "ipython3",
   "version": "3.10.16"
  }
 },
 "nbformat": 4,
 "nbformat_minor": 2
}
