{
    "cells": [
        {
            "cell_type": "code",
            "execution_count": 1,
            "metadata": {},
            "outputs": [],
            "source": [
                "import os\n",
                "os.environ['CUDA_DEVICE_ORDER']='PCI_BUS_ID'\n",
                "os.environ['CUDA_VISIBLE_DEVICES'] = '0'"
            ]
        },
        {
            "cell_type": "markdown",
            "metadata": {},
            "source": [
                "# Inference Pipeline for already fine-tuned models"
            ]
        },
        {
            "cell_type": "code",
            "execution_count": 2,
            "metadata": {},
            "outputs": [
                {
                    "name": "stdout",
                    "output_type": "stream",
                    "text": [
                        "🦥 Unsloth: Will patch your computer to enable 2x faster free finetuning.\n",
                        "🦥 Unsloth Zoo will now patch everything to make training faster!\n"
                    ]
                }
            ],
            "source": [
                "# load libraries and model from HF\n",
                "import torch\n",
                "import pandas as pd\n",
                "import wandb\n",
                "from datasets import load_dataset\n",
                "from unsloth import FastLanguageModel, is_bfloat16_supported\n",
                "\n",
                "model_name = \"xu3kev/deepseekcoder-7b-logo-pbe\" #\"ruthchy/02_expt_code-llama-ascii-desc\"\n",
                "max_seq_length = 2050\n"
            ]
        },
        {
            "cell_type": "code",
            "execution_count": null,
            "metadata": {},
            "outputs": [],
            "source": [
                "timestamp = pd.Timestamp.now().strftime(\"%Y%m%d%H%M\")\n",
                "# Initialize WandB (ensure you've logged in using `wandb login`)\n",
                "wandb.init(project=\"code-llama-finetuning\", \n",
                "           name=f\"fine-tune-semantic-length-generalization-ascii-desc_{timestamp}\",\n",
                "           config={\"learning_rate\": 5e-5, \"num_train_epochs\": 3, \"max_seq_length\": max_seq_length, \"num_epochs\": 3,})"
            ]
        },
        {
            "cell_type": "code",
            "execution_count": 3,
            "metadata": {},
            "outputs": [
                {
                    "name": "stdout",
                    "output_type": "stream",
                    "text": [
                        "==((====))==  Unsloth 2024.12.4: Fast Llama patching. Transformers:4.46.3.\n",
                        "   \\\\   /|    GPU: NVIDIA RTX A6000. Max memory: 47.529 GB. Platform: Linux.\n",
                        "O^O/ \\_/ \\    Torch: 2.5.1. CUDA: 8.6. CUDA Toolkit: 12.1. Triton: 3.1.0\n",
                        "\\        /    Bfloat16 = TRUE. FA [Xformers = 0.0.28.post3. FA2 = False]\n",
                        " \"-____-\"     Free Apache license: http://github.com/unslothai/unsloth\n",
                        "Unsloth: Fast downloading is enabled - ignore downloading bars which are red colored!\n"
                    ]
                },
                {
                    "data": {
                        "application/vnd.jupyter.widget-view+json": {
                            "model_id": "7396ad0ec7f5423fbf8870a0e696e3cc",
                            "version_major": 2,
                            "version_minor": 0
                        },
                        "text/plain": [
                            "model.safetensors.index.json:   0%|          | 0.00/22.5k [00:00<?, ?B/s]"
                        ]
                    },
                    "metadata": {},
                    "output_type": "display_data"
                },
                {
                    "data": {
                        "application/vnd.jupyter.widget-view+json": {
                            "model_id": "2cb5424ef2f14ba39ffb1e85c85cdcf6",
                            "version_major": 2,
                            "version_minor": 0
                        },
                        "text/plain": [
                            "Downloading shards:   0%|          | 0/6 [00:00<?, ?it/s]"
                        ]
                    },
                    "metadata": {},
                    "output_type": "display_data"
                },
                {
                    "data": {
                        "application/vnd.jupyter.widget-view+json": {
                            "model_id": "d02347a3828a43b98ddb6ada638d20c3",
                            "version_major": 2,
                            "version_minor": 0
                        },
                        "text/plain": [
                            "model-00001-of-00006.safetensors:   0%|          | 0.00/4.98G [00:00<?, ?B/s]"
                        ]
                    },
                    "metadata": {},
                    "output_type": "display_data"
                },
                {
                    "data": {
                        "application/vnd.jupyter.widget-view+json": {
                            "model_id": "11a2f2507639494798a8a766cf477558",
                            "version_major": 2,
                            "version_minor": 0
                        },
                        "text/plain": [
                            "model-00002-of-00006.safetensors:   0%|          | 0.00/4.99G [00:00<?, ?B/s]"
                        ]
                    },
                    "metadata": {},
                    "output_type": "display_data"
                },
                {
                    "data": {
                        "application/vnd.jupyter.widget-view+json": {
                            "model_id": "f21138c2d6934e16bd0f68466d3751ad",
                            "version_major": 2,
                            "version_minor": 0
                        },
                        "text/plain": [
                            "model-00003-of-00006.safetensors:   0%|          | 0.00/4.92G [00:00<?, ?B/s]"
                        ]
                    },
                    "metadata": {},
                    "output_type": "display_data"
                },
                {
                    "data": {
                        "application/vnd.jupyter.widget-view+json": {
                            "model_id": "645cdf0e0d254dc5ac1154846ef34f76",
                            "version_major": 2,
                            "version_minor": 0
                        },
                        "text/plain": [
                            "model-00004-of-00006.safetensors:   0%|          | 0.00/4.86G [00:00<?, ?B/s]"
                        ]
                    },
                    "metadata": {},
                    "output_type": "display_data"
                },
                {
                    "data": {
                        "application/vnd.jupyter.widget-view+json": {
                            "model_id": "c0bba1f29176449ca0f64257e1ebf99b",
                            "version_major": 2,
                            "version_minor": 0
                        },
                        "text/plain": [
                            "model-00005-of-00006.safetensors:   0%|          | 0.00/4.86G [00:00<?, ?B/s]"
                        ]
                    },
                    "metadata": {},
                    "output_type": "display_data"
                },
                {
                    "data": {
                        "application/vnd.jupyter.widget-view+json": {
                            "model_id": "ca915231fe534201a7f494b7294a8098",
                            "version_major": 2,
                            "version_minor": 0
                        },
                        "text/plain": [
                            "model-00006-of-00006.safetensors:   0%|          | 0.00/3.03G [00:00<?, ?B/s]"
                        ]
                    },
                    "metadata": {},
                    "output_type": "display_data"
                },
                {
                    "data": {
                        "application/vnd.jupyter.widget-view+json": {
                            "model_id": "a679cff637a54fd4b273d2c22960a826",
                            "version_major": 2,
                            "version_minor": 0
                        },
                        "text/plain": [
                            "Loading checkpoint shards:   0%|          | 0/6 [00:00<?, ?it/s]"
                        ]
                    },
                    "metadata": {},
                    "output_type": "display_data"
                },
                {
                    "data": {
                        "application/vnd.jupyter.widget-view+json": {
                            "model_id": "bff96b223b6e4e9fb254df42c18ddbd5",
                            "version_major": 2,
                            "version_minor": 0
                        },
                        "text/plain": [
                            "generation_config.json:   0%|          | 0.00/126 [00:00<?, ?B/s]"
                        ]
                    },
                    "metadata": {},
                    "output_type": "display_data"
                },
                {
                    "data": {
                        "application/vnd.jupyter.widget-view+json": {
                            "model_id": "0acff829851c445b95342f11e8959e9a",
                            "version_major": 2,
                            "version_minor": 0
                        },
                        "text/plain": [
                            "tokenizer_config.json:   0%|          | 0.00/4.27k [00:00<?, ?B/s]"
                        ]
                    },
                    "metadata": {},
                    "output_type": "display_data"
                },
                {
                    "data": {
                        "application/vnd.jupyter.widget-view+json": {
                            "model_id": "3682730a0e8a4b508e56654f340280ae",
                            "version_major": 2,
                            "version_minor": 0
                        },
                        "text/plain": [
                            "special_tokens_map.json:   0%|          | 0.00/464 [00:00<?, ?B/s]"
                        ]
                    },
                    "metadata": {},
                    "output_type": "display_data"
                },
                {
                    "data": {
                        "application/vnd.jupyter.widget-view+json": {
                            "model_id": "5d14fb71efe54434820c74e09be0e3f4",
                            "version_major": 2,
                            "version_minor": 0
                        },
                        "text/plain": [
                            "tokenizer.json:   0%|          | 0.00/4.61M [00:00<?, ?B/s]"
                        ]
                    },
                    "metadata": {},
                    "output_type": "display_data"
                }
            ],
            "source": [
                "# Model configuration\n",
                "model, tokenizer = FastLanguageModel.from_pretrained(\n",
                "    model_name,\n",
                "    max_seq_length=max_seq_length,\n",
                "    load_in_4bit=True,\n",
                "    dtype=None,\n",
                ")"
            ]
        },
        {
            "cell_type": "code",
            "execution_count": null,
            "metadata": {},
            "outputs": [],
            "source": [
                "# if tokenizer.pad_token is None then an error will be raised I explicitly set it to '[PAD]'\n",
                "if tokenizer.pad_token == None:\n",
                "    tokenizer.pad_token = tokenizer.eos_token or '[PAD]'\n",
                "    if tokenizer.pad_token == '[PAD]':\n",
                "        tokenizer.add_special_tokens({'pad_token': '[PAD]'})\n",
                "    print(f\"Added padding token: {tokenizer.pad_token}\")"
            ]
        },
        {
            "cell_type": "markdown",
            "metadata": {},
            "source": [
                "## Load and Preprocess Train, Validation, and Test-Data"
            ]
        },
        {
            "cell_type": "code",
            "execution_count": 4,
            "metadata": {},
            "outputs": [
                {
                    "name": "stderr",
                    "output_type": "stream",
                    "text": [
                        "Using the latest cached version of the dataset since ruthchy/semantic-length-generalization-logo-data-ascii-desc couldn't be found on the Hugging Face Hub\n",
                        "Found the latest cached dataset configuration 'default' at /home/pratz/.cache/huggingface/datasets/ruthchy___semantic-length-generalization-logo-data-ascii-desc/default/0.0.0/d8c6991077ac09af8a454960a29609f5701aae69 (last modified on Thu Jan 30 00:08:13 2025).\n"
                    ]
                }
            ],
            "source": [
                "# load the datasets and access the splits\n",
                "dataset = load_dataset(\"ruthchy/semantic-length-generalization-logo-data-ascii-desc\")\n",
                "train_dataset, val_dataset, test_dataset = dataset[\"train\"], dataset[\"validation\"], dataset[\"test\"]"
            ]
        },
        {
            "cell_type": "code",
            "execution_count": 5,
            "metadata": {},
            "outputs": [
                {
                    "data": {
                        "application/vnd.jupyter.widget-view+json": {
                            "model_id": "401a02332a474df490cd6c8dfc0d235d",
                            "version_major": 2,
                            "version_minor": 0
                        },
                        "text/plain": [
                            "Map (num_proc=4):   0%|          | 0/997 [00:00<?, ? examples/s]"
                        ]
                    },
                    "metadata": {},
                    "output_type": "display_data"
                }
            ],
            "source": [
                "# Tokenize the datasets\n",
                "def preprocess_function(examples):\n",
                "    return tokenizer(\n",
                "        examples[\"Input\"],  \n",
                "        text_pair=examples[\"Program\"],  \n",
                "        truncation=True,\n",
                "        max_length=max_seq_length,\n",
                "        padding=\"max_length\",\n",
                "    )\n",
                "\n",
                "# Apply the tokenizer to the datasets\n",
                "tokenized_test_dataset = test_dataset.map(preprocess_function, batched=True, num_proc=4)"
            ]
        },
        {
            "cell_type": "markdown",
            "metadata": {},
            "source": [
                "## Prediction with pre-trained and/or fine-tuned model"
            ]
        },
        {
            "cell_type": "code",
            "execution_count": 6,
            "metadata": {},
            "outputs": [],
            "source": [
                "model = FastLanguageModel.for_inference(model)"
            ]
        },
        {
            "cell_type": "code",
            "execution_count": 8,
            "metadata": {},
            "outputs": [
                {
                    "name": "stdout",
                    "output_type": "stream",
                    "text": [
                        "Input 1: <s><sys_prompt>\n",
                        "\n",
                        "Your task is to draw simple black and white graphics with the custom library. DO NOT USE THE BUILT-IN TURTLE LIBRARY.\n",
                        "\n",
                        "You will use a custom turtle library, similar to the built-in library, which is sufficient for all tasks.\n",
                        "\n",
                        "</sys_prompt>\n",
                        "\n",
                        "<custom_library_desc>\n",
                        "\n",
                        "Here are all the available functions in the custom turtle library:\n",
                        "\n",
                        "- forward(x): move forward x pixels\n",
                        "\n",
                        "- left(theta): rotate left by theta degrees\n",
                        "\n",
                        "- right(theta): rotate right by theta degrees\n",
                        "\n",
                        "- penup(): stop drawing\n",
                        "\n",
                        "- pendown(): start drawing\n",
                        "\n",
                        "- teleport(x, y, theta): move to position (x, y) with angle theta\n",
                        "\n",
                        "- heading(): get the current angle of the turtle\n",
                        "\n",
                        "- isdown(): check if the pen is down\n",
                        "\n",
                        "- embed(program, local vars): runs the code in program using the current context and teleports back to the original position. Allows you to nest programs. Implementationally, embed gets the turtle state (is down, x, y, heading), executes program, then returns to the original state.\n",
                        "\n",
                        "</custom_library_desc>\n",
                        "\n",
                        "<task>\n",
                        "\n",
                        "Use the following description and ascii-art representing the target graphic to generate the python program:\n",
                        "\n",
                        "</task>\n",
                        "\n",
                        "    Description: a 3 sided snowflake with arms of connected sequence of shapes: a small 7-gon, a medium line, a small circle\n",
                        "    ASCII-Art:\n",
                        "00000000000000000000000000000000000\n",
                        "00000000000000000000000000000000000\n",
                        "00000000000000000000000000000000000\n",
                        "00000000000000000000000000000000000\n",
                        "00000000000000000000000000133320000\n",
                        "00000000000000000000000002200003000\n",
                        "00000000000000000000000021000000300\n",
                        "00000000000000000000000030000000020\n",
                        "00000000000000000000000030000000030\n",
                        "00000000000000000000000030000000030\n",
                        "00000000000000000000000030000000030\n",
                        "00000000000000000221000030000000300\n",
                        "00000000000000003000221003000002200\n",
                        "00000000000000220000002000433331000\n",
                        "00000000000000200000001435331000000\n",
                        "00000021001223420000003311002200000\n",
                        "00002301322001102000021230000300000\n",
                        "00220000033002001200030210000030000\n",
                        "00200000210202000120030300000030000\n",
                        "00200000300200300020033000000030000\n",
                        "01100000200200030020042000000020000\n",
                        "02000000200200005664652000000300000\n",
                        "02100000100200130213143200003100000\n",
                        "00300000021100300410003133330000000\n",
                        "00030000034202123000003000000000000\n",
                        "00003222252356300000001100000000000\n",
                        "00000000000003000000001100000000000\n",
                        "00000000000001200000003000000000000\n",
                        "00000000000000300000012000000000000\n",
                        "00000000000000031000230000000000000\n",
                        "00000000000000002333100000000000000\n",
                        "00000000000000000000000000000000000\n",
                        "00000000000000000000000000000000000\n",
                        "00000000000000000000000000000000000\n",
                        "00000000000000000000000000000000000\n",
                        "\n",
                        "<output>\n",
                        "\n",
                        "Please generate only the code to produce the answer and nothing else.\n",
                        "\n",
                        "    Program: \n",
                        "\n",
                        "</output>\n",
                        "</s>\n",
                        "Program 1: <s>for j in range(3):\n",
                        "    embed(\"\"\"for i in range(7):\n",
                        "    forward(2)\n",
                        "    left(51.42857142857143)\n",
                        "forward(4)\n",
                        "left(270)\n",
                        "for i in range(HALF_INF):\n",
                        "    forward(EPS_DIST*1)\n",
                        "    left(EPS_ANGLE)\n",
                        "for i in range(HALF_INF):\n",
                        "    forward(EPS_DIST*1)\n",
                        "    left(EPS_ANGLE)\"\"\", locals())\n",
                        "    forward(0)\n",
                        "    left(120.0)</s>\n",
                        "\n",
                        "Input 2: <s><sys_prompt>\n",
                        "\n",
                        "Your task is to draw simple black and white graphics with the custom library. DO NOT USE THE BUILT-IN TURTLE LIBRARY.\n",
                        "\n",
                        "You will use a custom turtle library, similar to the built-in library, which is sufficient for all tasks.\n",
                        "\n",
                        "</sys_prompt>\n",
                        "\n",
                        "<custom_library_desc>\n",
                        "\n",
                        "Here are all the available functions in the custom turtle library:\n",
                        "\n",
                        "- forward(x): move forward x pixels\n",
                        "\n",
                        "- left(theta): rotate left by theta degrees\n",
                        "\n",
                        "- right(theta): rotate right by theta degrees\n",
                        "\n",
                        "- penup(): stop drawing\n",
                        "\n",
                        "- pendown(): start drawing\n",
                        "\n",
                        "- teleport(x, y, theta): move to position (x, y) with angle theta\n",
                        "\n",
                        "- heading(): get the current angle of the turtle\n",
                        "\n",
                        "- isdown(): check if the pen is down\n",
                        "\n",
                        "- embed(program, local vars): runs the code in program using the current context and teleports back to the original position. Allows you to nest programs. Implementationally, embed gets the turtle state (is down, x, y, heading), executes program, then returns to the original state.\n",
                        "\n",
                        "</custom_library_desc>\n",
                        "\n",
                        "<task>\n",
                        "\n",
                        "Use the following description and ascii-art representing the target graphic to generate the python program:\n",
                        "\n",
                        "</task>\n",
                        "\n",
                        "    Description: connected sequence of shapes: a small 7-gon, a medium line, a small triangle, a short line, a small circle\n",
                        "    ASCII-Art:\n",
                        "00000000000000000000000000000000000\n",
                        "00000000000000000000000000000000000\n",
                        "00000000000000000000000000000000000\n",
                        "00000001323000000000000000000000000\n",
                        "00000231000231000000000000000000000\n",
                        "00023000000001310000000000000000000\n",
                        "00110000000000020000000000000000000\n",
                        "00200000000000020000000000000000000\n",
                        "00200000000000002000000000000000000\n",
                        "00200000000000002000000000000000000\n",
                        "00200000000000002000000000000000000\n",
                        "02000000000000002000000000000000000\n",
                        "03000000000000001100000000000000000\n",
                        "00200000000000003000000000000000000\n",
                        "00110000000000030000000000000000000\n",
                        "00020000000000210000000000000000000\n",
                        "00003000000001200000000000000000000\n",
                        "00000300000002000000000000000000000\n",
                        "00000022222222222224300233333200000\n",
                        "00000000000000000002035100000030000\n",
                        "00000000000000000002030320000003000\n",
                        "00000000000000000002300013000000300\n",
                        "00000000000000000003200220000000200\n",
                        "00000000000000000004013000000000030\n",
                        "00000000000000000003310000000000030\n",
                        "00000000000000000003000000000000030\n",
                        "00000000000000000003000000000000030\n",
                        "00000000000000000000200000000000210\n",
                        "00000000000000000000300000000000300\n",
                        "00000000000000000000030000000003000\n",
                        "00000000000000000000013000000031000\n",
                        "00000000000000000000000332223300000\n",
                        "00000000000000000000000000100000000\n",
                        "00000000000000000000000000000000000\n",
                        "00000000000000000000000000000000000\n",
                        "\n",
                        "<output>\n",
                        "\n",
                        "Please generate only the code to produce the answer and nothing else.\n",
                        "\n",
                        "    Program: \n",
                        "\n",
                        "</output>\n",
                        "</s>\n",
                        "Program 2: <s>for i in range(7):\n",
                        "    forward(2)\n",
                        "    left(51.42857142857143)\n",
                        "forward(4)\n",
                        "left(270)\n",
                        "for i in range(3):\n",
                        "    forward(2)\n",
                        "    left(120.0)\n",
                        "forward(2)\n",
                        "for i in range(HALF_INF):\n",
                        "    forward(EPS_DIST*1)\n",
                        "    left(EPS_ANGLE)\n",
                        "for i in range(HALF_INF):\n",
                        "    forward(EPS_DIST*1)\n",
                        "    left(EPS_ANGLE)</s>\n",
                        "\n",
                        "Input 3: <s><sys_prompt>\n",
                        "\n",
                        "Your task is to draw simple black and white graphics with the custom library. DO NOT USE THE BUILT-IN TURTLE LIBRARY.\n",
                        "\n",
                        "You will use a custom turtle library, similar to the built-in library, which is sufficient for all tasks.\n",
                        "\n",
                        "</sys_prompt>\n",
                        "\n",
                        "<custom_library_desc>\n",
                        "\n",
                        "Here are all the available functions in the custom turtle library:\n",
                        "\n",
                        "- forward(x): move forward x pixels\n",
                        "\n",
                        "- left(theta): rotate left by theta degrees\n",
                        "\n",
                        "- right(theta): rotate right by theta degrees\n",
                        "\n",
                        "- penup(): stop drawing\n",
                        "\n",
                        "- pendown(): start drawing\n",
                        "\n",
                        "- teleport(x, y, theta): move to position (x, y) with angle theta\n",
                        "\n",
                        "- heading(): get the current angle of the turtle\n",
                        "\n",
                        "- isdown(): check if the pen is down\n",
                        "\n",
                        "- embed(program, local vars): runs the code in program using the current context and teleports back to the original position. Allows you to nest programs. Implementationally, embed gets the turtle state (is down, x, y, heading), executes program, then returns to the original state.\n",
                        "\n",
                        "</custom_library_desc>\n",
                        "\n",
                        "<task>\n",
                        "\n",
                        "Use the following description and ascii-art representing the target graphic to generate the python program:\n",
                        "\n",
                        "</task>\n",
                        "\n",
                        "    Description: a 7 sided snowflake with arms of connected sequence of shapes: a small triangle, a short line, a medium circle\n",
                        "    ASCII-Art:\n",
                        "00000000000000000000000000000000000\n",
                        "00000000023233100000000000000000000\n",
                        "00000003300000132000000000000000000\n",
                        "00000030000000001300000222000000000\n",
                        "00000303333320000030332001232000000\n",
                        "00004320000013200025000000001300000\n",
                        "00024000000000130223000000000030000\n",
                        "00150000000000004200303333332003000\n",
                        "00330000000000004200520000001311200\n",
                        "03120000000000012303300000000022300\n",
                        "03110000000000030050200000000001400\n",
                        "02120000000000030430300000000000320\n",
                        "20030000000000033553300000000000040\n",
                        "20030000000000045475500000000000060\n",
                        "20021000033333577345300000000000131\n",
                        "02003003200034479867530000000000302\n",
                        "03000330000336345298102300000000302\n",
                        "02000430013044438735420022000003012\n",
                        "00302002340032578504413002100012020\n",
                        "00033000313433114655601200300220030\n",
                        "00024002000300220435500300043100110\n",
                        "00030234002133100120053443340000300\n",
                        "00030003335200000022030030011003000\n",
                        "00020020003000000001330030003130000\n",
                        "00030030003000000000053230135100000\n",
                        "00020020003000000000210042102000000\n",
                        "00003002003000000000300030020000000\n",
                        "00003003001100000001200120030000000\n",
                        "00000302000300000003000300020000000\n",
                        "00000130300120000040001200300000000\n",
                        "00000003220021001300003003000000000\n",
                        "00000000244224431000130030000000000\n",
                        "00000000000441033123113200000000000\n",
                        "00000000000002323333310000000000000\n",
                        "00000000000000000000000000000000000\n",
                        "\n",
                        "<output>\n",
                        "\n",
                        "Please generate only the code to produce the answer and nothing else.\n",
                        "\n",
                        "    Program: \n",
                        "\n",
                        "</output>\n",
                        "</s>\n",
                        "Program 3: <s>for j in range(7):\n",
                        "    embed(\"\"\"for i in range(3):\n",
                        "    forward(2)\n",
                        "    left(120.0)\n",
                        "forward(2)\n",
                        "left(180)\n",
                        "for i in range(HALF_INF):\n",
                        "    forward(EPS_DIST*2)\n",
                        "    left(EPS_ANGLE)\n",
                        "for i in range(HALF_INF):\n",
                        "    forward(EPS_DIST*2)\n",
                        "    left(EPS_ANGLE)\"\"\", locals())\n",
                        "    forward(0)\n",
                        "    left(51.42857142857143)</s>\n",
                        "\n",
                        "Input 4: <s><sys_prompt>\n",
                        "\n",
                        "Your task is to draw simple black and white graphics with the custom library. DO NOT USE THE BUILT-IN TURTLE LIBRARY.\n",
                        "\n",
                        "You will use a custom turtle library, similar to the built-in library, which is sufficient for all tasks.\n",
                        "\n",
                        "</sys_prompt>\n",
                        "\n",
                        "<custom_library_desc>\n",
                        "\n",
                        "Here are all the available functions in the custom turtle library:\n",
                        "\n",
                        "- forward(x): move forward x pixels\n",
                        "\n",
                        "- left(theta): rotate left by theta degrees\n",
                        "\n",
                        "- right(theta): rotate right by theta degrees\n",
                        "\n",
                        "- penup(): stop drawing\n",
                        "\n",
                        "- pendown(): start drawing\n",
                        "\n",
                        "- teleport(x, y, theta): move to position (x, y) with angle theta\n",
                        "\n",
                        "- heading(): get the current angle of the turtle\n",
                        "\n",
                        "- isdown(): check if the pen is down\n",
                        "\n",
                        "- embed(program, local vars): runs the code in program using the current context and teleports back to the original position. Allows you to nest programs. Implementationally, embed gets the turtle state (is down, x, y, heading), executes program, then returns to the original state.\n",
                        "\n",
                        "</custom_library_desc>\n",
                        "\n",
                        "<task>\n",
                        "\n",
                        "Use the following description and ascii-art representing the target graphic to generate the python program:\n",
                        "\n",
                        "</task>\n",
                        "\n",
                        "    Description: connected sequence of shapes: a small 7-gon, a medium line, a medium triangle, a medium line, a medium circle\n",
                        "    ASCII-Art:\n",
                        "00000000000000000000000000000000000\n",
                        "00000000000022000000000000000000000\n",
                        "00000000002200320000000000000000000\n",
                        "00000000030000003000000000000000000\n",
                        "00000000020000002000000000000000000\n",
                        "00000000200000002000000000000000000\n",
                        "00000000200000000200000000000000000\n",
                        "00000000210000002100000000000000000\n",
                        "00000000030000012000000000000000000\n",
                        "00000000003000030000000000000000000\n",
                        "00000000000222222243000000000000000\n",
                        "00000000000000000020230000000000000\n",
                        "00000000000000000020002200000000000\n",
                        "00000000000000000020000031000000000\n",
                        "00000000000000000020000031000000000\n",
                        "00000000000000000020003200000000000\n",
                        "00000000000000000020220000000000000\n",
                        "00000000000000000245100000000000000\n",
                        "00000000000000133100232000000000000\n",
                        "00000000000002200000001300000000000\n",
                        "00000000000021000000000030000000000\n",
                        "00000000000120000000000003000000000\n",
                        "00000000000300000000000003000000000\n",
                        "00000000000300000000000000200000000\n",
                        "00000000001100000000000000300000000\n",
                        "00000000002000000000000000300000000\n",
                        "00000000002100000000000000300000000\n",
                        "00000000000200000000000000300000000\n",
                        "00000000000300000000000002000000000\n",
                        "00000000000210000000000003000000000\n",
                        "00000000000030000000000030000000000\n",
                        "00000000000003000000000310000000000\n",
                        "00000000000000230000023000000000000\n",
                        "00000000000000002323300000000000000\n",
                        "00000000000000000000000000000000000\n",
                        "\n",
                        "<output>\n",
                        "\n",
                        "Please generate only the code to produce the answer and nothing else.\n",
                        "\n",
                        "    Program: \n",
                        "\n",
                        "</output>\n",
                        "</s>\n",
                        "Program 4: <s>for i in range(7):\n",
                        "    forward(2)\n",
                        "    left(51.42857142857143)\n",
                        "forward(4)\n",
                        "left(270)\n",
                        "for i in range(3):\n",
                        "    forward(4)\n",
                        "    left(120.0)\n",
                        "forward(4)\n",
                        "left(270)\n",
                        "for i in range(HALF_INF):\n",
                        "    forward(EPS_DIST*2)\n",
                        "    left(EPS_ANGLE)\n",
                        "for i in range(HALF_INF):\n",
                        "    forward(EPS_DIST*2)\n",
                        "    left(EPS_ANGLE)</s>\n",
                        "\n",
                        "Input 5: <s><sys_prompt>\n",
                        "\n",
                        "Your task is to draw simple black and white graphics with the custom library. DO NOT USE THE BUILT-IN TURTLE LIBRARY.\n",
                        "\n",
                        "You will use a custom turtle library, similar to the built-in library, which is sufficient for all tasks.\n",
                        "\n",
                        "</sys_prompt>\n",
                        "\n",
                        "<custom_library_desc>\n",
                        "\n",
                        "Here are all the available functions in the custom turtle library:\n",
                        "\n",
                        "- forward(x): move forward x pixels\n",
                        "\n",
                        "- left(theta): rotate left by theta degrees\n",
                        "\n",
                        "- right(theta): rotate right by theta degrees\n",
                        "\n",
                        "- penup(): stop drawing\n",
                        "\n",
                        "- pendown(): start drawing\n",
                        "\n",
                        "- teleport(x, y, theta): move to position (x, y) with angle theta\n",
                        "\n",
                        "- heading(): get the current angle of the turtle\n",
                        "\n",
                        "- isdown(): check if the pen is down\n",
                        "\n",
                        "- embed(program, local vars): runs the code in program using the current context and teleports back to the original position. Allows you to nest programs. Implementationally, embed gets the turtle state (is down, x, y, heading), executes program, then returns to the original state.\n",
                        "\n",
                        "</custom_library_desc>\n",
                        "\n",
                        "<task>\n",
                        "\n",
                        "Use the following description and ascii-art representing the target graphic to generate the python program:\n",
                        "\n",
                        "</task>\n",
                        "\n",
                        "    Description: a 7 sided snowflake with arms of separated sequence of shapes: a medium triangle, a short space, a small circle\n",
                        "    ASCII-Art:\n",
                        "00000000000000000000000000000000000\n",
                        "00000000000000000000000200000000000\n",
                        "00000000021000000000002220000000000\n",
                        "00000000021311333333121020000000000\n",
                        "00000000020044100033654230000000000\n",
                        "00000000021533464203002243000000000\n",
                        "00000000053000132650000232300000000\n",
                        "00000001350001332515200033030000000\n",
                        "00000012211015203213646336003000000\n",
                        "00000030304563364640030224321100000\n",
                        "00000300554030316511244227103300000\n",
                        "00000326325232032354347131523622100\n",
                        "00003342222443546634326631500220140\n",
                        "00233110404742520400753214500240300\n",
                        "03103300505436300503245032410224000\n",
                        "00224100432144253443024314050323000\n",
                        "00006100622053015463106446023423000\n",
                        "00003521332233045563347262223402000\n",
                        "00002305127537313332024354534203000\n",
                        "00003125432635203204035033070302000\n",
                        "00003024314525324002733103431220000\n",
                        "00002006230520556535342326203330000\n",
                        "00000323143313242353557404000600000\n",
                        "00000233002632676002453033003400000\n",
                        "00000052000320226420322230035020000\n",
                        "00000023400054310145024143322020000\n",
                        "00000200343215223533454542352221000\n",
                        "00000322233333632000022200300000000\n",
                        "00000100003200252000232032000000000\n",
                        "00000000000132021334743300000000000\n",
                        "00000000000000335321100000000000000\n",
                        "00000000000000000302000000000000000\n",
                        "00000000000000000122000000000000000\n",
                        "00000000000000000020000000000000000\n",
                        "00000000000000000000000000000000000\n",
                        "\n",
                        "<output>\n",
                        "\n",
                        "Please generate only the code to produce the answer and nothing else.\n",
                        "\n",
                        "    Program: \n",
                        "\n",
                        "</output>\n",
                        "</s>\n",
                        "Program 5: <s>for j in range(7):\n",
                        "    embed(\"\"\"for i in range(3):\n",
                        "    forward(4)\n",
                        "    left(120.0)\n",
                        "penup()\n",
                        "forward(2)\n",
                        "pendown()\n",
                        "for i in range(HALF_INF):\n",
                        "    forward(EPS_DIST*1)\n",
                        "    left(EPS_ANGLE)\n",
                        "for i in range(HALF_INF):\n",
                        "    forward(EPS_DIST*1)\n",
                        "    left(EPS_ANGLE)\"\"\", locals())\n",
                        "    forward(0)\n",
                        "    left(51.42857142857143)</s>\n",
                        "\n"
                    ]
                }
            ],
            "source": [
                "for i in range(5):\n",
                "    print(f\"Input {i+1}: {tokenized_test_dataset['Input'][i]}\")\n",
                "    print(f\"Program {i+1}: {tokenized_test_dataset['Program'][i]}\")\n",
                "    print()"
            ]
        },
        {
            "cell_type": "code",
            "execution_count": 9,
            "metadata": {},
            "outputs": [
                {
                    "name": "stdout",
                    "output_type": "stream",
                    "text": [
                        "Prediction 1: \n",
                        "Prediction 2: \n",
                        "\n",
                        "# the following program draws a small 7-gon, a medium line, a small triangle, a short line, a small circle\n",
                        "</# the following program draws a small 7-gon, a medium line, a small triangle, a short line, a small circle\n",
                        "for i in range(7):\n",
                        "    forward(2)\n",
                        "    left(51.42857142857142857142857142857142857142857142857142857142857142857142857142857142857142857142857142857142857142857142857142857142857142857142857142857142857142857142857142857142857142857142857142857142857142857142857142857142857142857142857142857142857142857142857142857142857142857142857142857142857142857142857142857142857142857142857142857142857142857142857142857142857142857142857142857142857142857142857142857142857\n",
                        "Prediction 3: \n",
                        "Prediction 4: \n",
                        "\n",
                        "# the following program draws a small 7-gon, a medium line, a medium triangle, a medium line, a medium circle\n",
                        "\n",
                        "# the following program draws a small 7-gon, a medium line, a medium triangle, a medium line, a medium circle\n",
                        "\n",
                        "# the following program draws a small 7-gon, a medium line, a medium triangle, a medium line, a medium circle\n",
                        "\n",
                        "# the following program draws a small 7-gon, a medium line, a medium triangle, a medium line, a medium circle\n",
                        "\n",
                        "# the following program draws a small 7-gon, a medium line, a medium triangle, a medium line, a medium circle\n",
                        "\n",
                        "# the following program draws a small 7-gon, a medium line, a medium triangle, a medium line, a medium circle\n",
                        "\n",
                        "# the following program draws a small 7-gon, a medium line, a medium triangle, a medium line, a medium circle\n",
                        "\n",
                        "# the following program draws a small 7-gon, a medium line, a medium triangle, a medium line, a medium circle\n",
                        "\n",
                        "# the following program draws a small 7-gon, a medium line, a medium triangle, a medium line, a medium circle\n",
                        "\n",
                        "# the following program draws a small 7-gon, a medium line, a medium triangle, a medium line, a medium circle\n",
                        "\n",
                        "# the following program draws a small 7-gon, a medium line, a medium triangle, a medium line, a medium circle\n",
                        "\n",
                        "# the following program draws a small 7-gon, a medium line, a medium triangle, a medium line, a medium circle\n",
                        "\n",
                        "# the following program draws a small 7-gon, a medium line, a medium triangle, a medium line, a medium circle\n",
                        "\n",
                        "# the following program draws a small 7-gon, a medium line, a medium triangle, a medium line, a medium circle\n",
                        "\n",
                        "# the following program draws a small 7-gon, a medium line, a medium triangle, a medium line, a medium circle\n",
                        "\n",
                        "# the following program draws a small 7-gon, a medium line, a medium triangle, a medium line, a medium circle\n",
                        "\n",
                        "# the following program draws a small 7-gon, a medium line, a medium triangle, a medium line, a medium circle\n",
                        "\n",
                        "# the following program draws\n",
                        "Prediction 5: \n"
                    ]
                }
            ],
            "source": [
                "# Get the input data from the tokenized dataset\n",
                "input_ids = tokenized_test_dataset[\"input_ids\"]\n",
                "attention_mask = tokenized_test_dataset[\"attention_mask\"]\n",
                "\n",
                "# Make predictions\n",
                "model.eval()  # Set the model to evaluation mode\n",
                "predictions = []\n",
                "\n",
                "with torch.no_grad():  # Disable gradient computation to save memory\n",
                "    for i in range(0, len(input_ids), 8):  # Batch size of 8\n",
                "        batch_input_ids = torch.tensor(input_ids[i:i+8]).cuda()\n",
                "        batch_attention_mask = torch.tensor(attention_mask[i:i+8]).cuda()\n",
                "\n",
                "        outputs = model.generate(input_ids=batch_input_ids, attention_mask=batch_attention_mask, max_new_tokens=500)\n",
                "\n",
                "        # Decode the generated predictions back to text, excluding the input tokens\n",
                "        for output in outputs:\n",
                "            generated_text = tokenizer.decode(output[len(batch_input_ids[0]):], skip_special_tokens=True) # so it only returns the generated program\n",
                "            predictions.append(generated_text)\n",
                "\n",
                "# Now, you have the predictions for the test set in the `predictions` list\n",
                "# Let's print some of them to verify\n",
                "for idx, prediction in enumerate(predictions[:5]):\n",
                "    print(f\"Prediction {idx+1}: {prediction}\")"
            ]
        },
        {
            "cell_type": "markdown",
            "metadata": {},
            "source": [
                "predictions took 90min and look shitty"
            ]
        },
        {
            "cell_type": "code",
            "execution_count": null,
            "metadata": {},
            "outputs": [],
            "source": []
        }
    ],
    "metadata": {
        "kernelspec": {
            "display_name": "ReGAL_env",
            "language": "python",
            "name": "python3"
        },
        "language_info": {
            "codemirror_mode": {
                "name": "ipython",
                "version": 3
            },
            "file_extension": ".py",
            "mimetype": "text/x-python",
            "name": "python",
            "nbconvert_exporter": "python",
            "pygments_lexer": "ipython3",
            "version": "3.10.16"
        }
    },
    "nbformat": 4,
    "nbformat_minor": 2
}
