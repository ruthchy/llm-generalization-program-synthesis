{
 "cells": [
  {
   "cell_type": "markdown",
   "metadata": {},
   "source": [
    "In this notebook I plan to gain an overview of the functions contained in the LOGO domain programs beside the primitive functions in the REGAL paper."
   ]
  },
  {
   "cell_type": "code",
   "execution_count": null,
   "metadata": {},
   "outputs": [],
   "source": [
    "import json\n",
    "\n",
    "# Load train and test dataset\n",
    "with open(\"external/dependencies/logo_data/python/train_200_dataset.jsonl\", 'r') as f:\n",
    "    train_data = [json.loads(line) for line in f]\n",
    "\n",
    "with open(\"external/dependencies/logo_data/python/test_dataset.jsonl\", 'r') as f:\n",
    "    test_data = [json.loads(line) for line in f]"
   ]
  },
  {
   "cell_type": "code",
   "execution_count": null,
   "metadata": {},
   "outputs": [],
   "source": [
    "import ast\n",
    "\n",
    "def extract_non_logo_expressions(data, primitives):\n",
    "    \"\"\"\n",
    "    Extracts non-LOGO primitive expressions from the code in the 'gpt' key of the dataset.\n",
    "\n",
    "    Args:\n",
    "        data (list): List of dictionaries containing the dataset.\n",
    "        primitives (list): List of LOGO primitives to exclude.\n",
    "\n",
    "    Returns:\n",
    "        list: List of unique non-LOGO primitive expressions.\n",
    "    \"\"\"\n",
    "    expressions = set()\n",
    "\n",
    "    def is_logo_primitive(name):\n",
    "        \"\"\"Check if a function name is a LOGO primitive.\"\"\"\n",
    "        return name in primitives\n",
    "\n",
    "    def visit_node(node):\n",
    "        \"\"\"Recursively visit AST nodes to extract relevant expressions.\"\"\"\n",
    "        if isinstance(node, ast.Call):\n",
    "            # Handle function calls, extract function names\n",
    "            if isinstance(node.func, ast.Name) and not is_logo_primitive(node.func.id):\n",
    "                expressions.add(node.func.id)\n",
    "\n",
    "        elif isinstance(node, ast.For):\n",
    "            # Extract 'for' loop construct\n",
    "            expressions.add(\"for-loop\")\n",
    "\n",
    "        # Recursively visit child nodes\n",
    "        for child in ast.iter_child_nodes(node):\n",
    "            visit_node(child)\n",
    "\n",
    "    # Iterate over each dictionary in the dataset\n",
    "    for item in data:\n",
    "        for message in item.get('messages', []):\n",
    "            if message['from'] == 'gpt':\n",
    "                code = message['value']\n",
    "                try:\n",
    "                    tree = ast.parse(code)\n",
    "                    visit_node(tree)\n",
    "                except SyntaxError:\n",
    "                    continue\n",
    "\n",
    "    return list(expressions)\n",
    "\n",
    "# List containing LOGO primitives from the ReGAL paper\n",
    "logo_primitives = ['forward', 'left', 'right', 'penup', 'pendown', 'teleport', 'heading', 'isdown', 'embed']"
   ]
  },
  {
   "cell_type": "code",
   "execution_count": 6,
   "metadata": {},
   "outputs": [
    {
     "name": "stdout",
     "output_type": "stream",
     "text": [
      "['range', 'locals', 'for-loop']\n",
      "['range', 'locals', 'for-loop']\n"
     ]
    }
   ],
   "source": [
    "train_result = extract_non_logo_expressions(train_data, logo_primitives)\n",
    "test_result = extract_non_logo_expressions(test_data, logo_primitives)\n",
    "\n",
    "print(train_result)\n",
    "print(test_result)"
   ]
  }
 ],
 "metadata": {
  "kernelspec": {
   "display_name": "ReGAL_env",
   "language": "python",
   "name": "python3"
  },
  "language_info": {
   "codemirror_mode": {
    "name": "ipython",
    "version": 3
   },
   "file_extension": ".py",
   "mimetype": "text/x-python",
   "name": "python",
   "nbconvert_exporter": "python",
   "pygments_lexer": "ipython3",
   "version": "3.10.13"
  }
 },
 "nbformat": 4,
 "nbformat_minor": 2
}
