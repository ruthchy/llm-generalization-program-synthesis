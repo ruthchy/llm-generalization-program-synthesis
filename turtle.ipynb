{
 "cells": [
  {
   "cell_type": "code",
   "execution_count": null,
   "metadata": {},
   "outputs": [],
   "source": [
    "import turtle\n",
    "# 5 pointed star\n",
    "t = turtle.Turtle()\n",
    "t.speed(0)\n",
    "for i in range(5):\n",
    "    t.forward(100)\n",
    "    t.left(180.0 - 180.0 / 5) \n",
    "\n",
    "\n",
    "\n",
    "# 6 pointed star\n",
    "t = turtle.Turtle()\n",
    "t.speed(0)\n",
    "for i in range(3):\n",
    "    t.forward(100)\n",
    "    t.left(180.0-60.0) \n",
    "t.penup()\n",
    "t.left(90)\n",
    "t.forward(60)\n",
    "t.left(210)\n",
    "t.pendown()\n",
    "for i in range(3):\n",
    "    t.forward(100)\n",
    "    t.left(180.0-60.0)\n",
    "\n",
    "\n",
    "\n",
    "# 7 pointed star\n",
    "t = turtle.Turtle()\n",
    "t.speed(0)\n",
    "for i in range(7):\n",
    "    t.forward(100)\n",
    "    t.left(180.0 - 180.0 / 7) \n",
    "\n",
    "\n",
    "\n",
    "# 8 pointed star\n",
    "t = turtle.Turtle()\n",
    "t.speed(0)\n",
    "for i in range(8):\n",
    "    t.forward(100)\n",
    "    t.left((360.0*3)/8) #\n",
    "\n",
    "\n",
    "\n",
    "# 9 pointed star\n",
    "t = turtle.Turtle()\n",
    "t.speed(0)\n",
    "for i in range(9):\n",
    "    t.forward(100)\n",
    "    t.left(180.0 - 180.0 / 9) "
   ]
  }
 ],
 "metadata": {
  "kernelspec": {
   "display_name": "turtle-env",
   "language": "python",
   "name": "python3"
  },
  "language_info": {
   "codemirror_mode": {
    "name": "ipython",
    "version": 3
   },
   "file_extension": ".py",
   "mimetype": "text/x-python",
   "name": "python",
   "nbconvert_exporter": "python",
   "pygments_lexer": "ipython3",
   "version": "3.9.21"
  }
 },
 "nbformat": 4,
 "nbformat_minor": 2
}
