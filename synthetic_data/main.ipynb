{
 "cells": [
  {
   "cell_type": "markdown",
   "metadata": {},
   "source": [
    "# Generating Synthetic Data with LOGO-Programs, Descriptions and the respective Graphics"
   ]
  },
  {
   "cell_type": "code",
   "execution_count": 1,
   "metadata": {},
   "outputs": [],
   "source": [
    "# load\n",
    "from _1_logo_pseudo_code_generator import generateLOGOPseudoCode\n",
    "from _2_sampler import LOGOProgramSampler\n",
    "from _3_executable_logo_primitives import ReGALLOGOPrimitives\n",
    "from _4_logo_graphic_generator_v1 import PseudoProgramInterpreter as PseudoProgramInterpreter_v1\n",
    "from _4_logo_graphic_generator_v2 import PseudoProgramInterpreter as PseudoProgramInterpreter_v2\n",
    "from _5_ascii_processor import ASCIIProcessor\n",
    "\n",
    "generator=generateLOGOPseudoCode()\n",
    "\n",
    "import json\n",
    "import pandas as pd\n",
    "import os"
   ]
  },
  {
   "cell_type": "markdown",
   "metadata": {},
   "source": [
    "load the train and test data from the ReGAL-Paper. Join both and remove duplicate programs."
   ]
  },
  {
   "cell_type": "code",
   "execution_count": 2,
   "metadata": {},
   "outputs": [
    {
     "data": {
      "text/html": [
       "<div>\n",
       "<style scoped>\n",
       "    .dataframe tbody tr th:only-of-type {\n",
       "        vertical-align: middle;\n",
       "    }\n",
       "\n",
       "    .dataframe tbody tr th {\n",
       "        vertical-align: top;\n",
       "    }\n",
       "\n",
       "    .dataframe thead th {\n",
       "        text-align: right;\n",
       "    }\n",
       "</style>\n",
       "<table border=\"1\" class=\"dataframe\">\n",
       "  <thead>\n",
       "    <tr style=\"text-align: right;\">\n",
       "      <th></th>\n",
       "      <th>Description</th>\n",
       "      <th>Program</th>\n",
       "    </tr>\n",
       "  </thead>\n",
       "  <tbody>\n",
       "    <tr>\n",
       "      <th>198</th>\n",
       "      <td>8 sided snowflake with a short space and a sho...</td>\n",
       "      <td>for j in range(8):\\n    embed(\"\"\"penup()\\nforw...</td>\n",
       "    </tr>\n",
       "    <tr>\n",
       "      <th>199</th>\n",
       "      <td>8 sided snowflake with a medium triangle as arms</td>\n",
       "      <td>for j in range(8):\\n    embed(\"\"\"for i in rang...</td>\n",
       "    </tr>\n",
       "  </tbody>\n",
       "</table>\n",
       "</div>"
      ],
      "text/plain": [
       "                                           Description  \\\n",
       "198  8 sided snowflake with a short space and a sho...   \n",
       "199   8 sided snowflake with a medium triangle as arms   \n",
       "\n",
       "                                               Program  \n",
       "198  for j in range(8):\\n    embed(\"\"\"penup()\\nforw...  \n",
       "199  for j in range(8):\\n    embed(\"\"\"for i in rang...  "
      ]
     },
     "metadata": {},
     "output_type": "display_data"
    },
    {
     "data": {
      "text/html": [
       "<div>\n",
       "<style scoped>\n",
       "    .dataframe tbody tr th:only-of-type {\n",
       "        vertical-align: middle;\n",
       "    }\n",
       "\n",
       "    .dataframe tbody tr th {\n",
       "        vertical-align: top;\n",
       "    }\n",
       "\n",
       "    .dataframe thead th {\n",
       "        text-align: right;\n",
       "    }\n",
       "</style>\n",
       "<table border=\"1\" class=\"dataframe\">\n",
       "  <thead>\n",
       "    <tr style=\"text-align: right;\">\n",
       "      <th></th>\n",
       "      <th>Description</th>\n",
       "      <th>Program</th>\n",
       "    </tr>\n",
       "  </thead>\n",
       "  <tbody>\n",
       "    <tr>\n",
       "      <th>98</th>\n",
       "      <td>5 sided snowflake with a short line and a smal...</td>\n",
       "      <td>for j in range(5):\\n    embed(\"\"\"forward(4)\\nl...</td>\n",
       "    </tr>\n",
       "    <tr>\n",
       "      <th>99</th>\n",
       "      <td>6 sided snowflake with a short space and a sho...</td>\n",
       "      <td>for j in range(6):\\n    embed(\"\"\"penup()\\nforw...</td>\n",
       "    </tr>\n",
       "  </tbody>\n",
       "</table>\n",
       "</div>"
      ],
      "text/plain": [
       "                                          Description  \\\n",
       "98  5 sided snowflake with a short line and a smal...   \n",
       "99  6 sided snowflake with a short space and a sho...   \n",
       "\n",
       "                                              Program  \n",
       "98  for j in range(5):\\n    embed(\"\"\"forward(4)\\nl...  \n",
       "99  for j in range(6):\\n    embed(\"\"\"penup()\\nforw...  "
      ]
     },
     "metadata": {},
     "output_type": "display_data"
    },
    {
     "data": {
      "text/html": [
       "<div>\n",
       "<style scoped>\n",
       "    .dataframe tbody tr th:only-of-type {\n",
       "        vertical-align: middle;\n",
       "    }\n",
       "\n",
       "    .dataframe tbody tr th {\n",
       "        vertical-align: top;\n",
       "    }\n",
       "\n",
       "    .dataframe thead th {\n",
       "        text-align: right;\n",
       "    }\n",
       "</style>\n",
       "<table border=\"1\" class=\"dataframe\">\n",
       "  <thead>\n",
       "    <tr style=\"text-align: right;\">\n",
       "      <th></th>\n",
       "      <th>Description</th>\n",
       "      <th>Program</th>\n",
       "    </tr>\n",
       "  </thead>\n",
       "  <tbody>\n",
       "    <tr>\n",
       "      <th>109</th>\n",
       "      <td>5 sided snowflake with a small 5 gon and a sma...</td>\n",
       "      <td>for j in range(5):\\n    embed(\"\"\"penup()\\nforw...</td>\n",
       "    </tr>\n",
       "    <tr>\n",
       "      <th>110</th>\n",
       "      <td>6 sided snowflake with a small 5 gon and a sma...</td>\n",
       "      <td>for j in range(6):\\n    embed(\"\"\"penup()\\nforw...</td>\n",
       "    </tr>\n",
       "  </tbody>\n",
       "</table>\n",
       "</div>"
      ],
      "text/plain": [
       "                                           Description  \\\n",
       "109  5 sided snowflake with a small 5 gon and a sma...   \n",
       "110  6 sided snowflake with a small 5 gon and a sma...   \n",
       "\n",
       "                                               Program  \n",
       "109  for j in range(5):\\n    embed(\"\"\"penup()\\nforw...  \n",
       "110  for j in range(6):\\n    embed(\"\"\"penup()\\nforw...  "
      ]
     },
     "metadata": {},
     "output_type": "display_data"
    }
   ],
   "source": [
    "#LOGO\n",
    "train_logo_data = \"logo_data/python/train_200_dataset.jsonl\"\n",
    "dev_logo_data = \"logo_data/python/dev_100.jsonl\"\n",
    "test_logo_data = \"logo_data/python/test_dataset.jsonl\"\n",
    "\n",
    "# Load train, dev and test dataset\n",
    "def load_data(data_path):\n",
    "    with open(data_path, 'r') as f:\n",
    "        data = [json.loads(line) for line in f]\n",
    "    return data\n",
    "\n",
    "# Extract descriptions and programs from train_data and transform into pandas DataFrame\n",
    "def extract_descriptions_and_programs(data):\n",
    "    extracted_data = []\n",
    "    for item in data:\n",
    "        description = None\n",
    "        program = None\n",
    "        if \"messages\" in item:  # suits the format for train_data and test_data\n",
    "            for message in item.get('messages', []):\n",
    "                if message['from'] == 'human':\n",
    "                    description = message['value']\n",
    "                elif message['from'] == 'gpt':\n",
    "                    program = message['value']\n",
    "        elif \"program\" in item and \"language\" in item: # suites the format for dev_data\n",
    "            program = item['program']\n",
    "            description = \" \".join(item['language'])\n",
    "\n",
    "        if description and program:\n",
    "            extracted_data.append([description, program])\n",
    "    extracted_data = pd.DataFrame(extracted_data, columns=['Description', 'Program'])\n",
    "    return extracted_data\n",
    "\n",
    "df_train = extract_descriptions_and_programs(load_data(f\"../external/dependencies/{train_logo_data}\"))\n",
    "df_dev = extract_descriptions_and_programs(load_data(f\"../external/dependencies/{dev_logo_data}\"))\n",
    "df_test = extract_descriptions_and_programs(load_data(f\"../external/dependencies/{test_logo_data}\"))\n",
    "\n",
    "display(df_train.tail(2))\n",
    "display(df_dev.tail(2))\n",
    "display(df_test.tail(2))"
   ]
  },
  {
   "cell_type": "code",
   "execution_count": 3,
   "metadata": {},
   "outputs": [
    {
     "name": "stdout",
     "output_type": "stream",
     "text": [
      "Dimensions of the combined train and test data:  (311, 2)\n",
      "Dimensions of the combined train, dev and test data:  (411, 2)\n",
      "\n",
      "\n",
      "Dimensions of the combined train and test data without duplicate Programs:  (263, 2)\n",
      "Dimensions of the combined train, dev and test data without duplicate Programs:  (357, 2)\n"
     ]
    }
   ],
   "source": [
    "# Append the test data to the train data\n",
    "df_train_test = pd.concat([df_train, df_test], ignore_index=True)\n",
    "df_all = pd.concat([df_train, df_dev, df_test], ignore_index=True)\n",
    "print(\"Dimensions of the combined train and test data: \", df_train_test.shape)\n",
    "print(\"Dimensions of the combined train, dev and test data: \", df_all.shape)\n",
    "\n",
    "print(\"\\n\")\n",
    "#####################\n",
    "# Drop all duplicate rows\n",
    "df_train_test = df_train_test.drop_duplicates(subset=['Program']) # use the program as the unique identifier\n",
    "df_all = df_all.drop_duplicates(subset=['Program']) # use the program as the unique identifier\n",
    "#####################\n",
    "print(\"Dimensions of the combined train and test data without duplicate Programs: \", df_train_test.shape)\n",
    "print(\"Dimensions of the combined train, dev and test data without duplicate Programs: \", df_all.shape)"
   ]
  },
  {
   "cell_type": "code",
   "execution_count": 4,
   "metadata": {},
   "outputs": [
    {
     "name": "stdout",
     "output_type": "stream",
     "text": [
      "48\n",
      "54\n",
      "9643\n"
     ]
    }
   ],
   "source": [
    "print(311-263)\n",
    "print(411-357)\n",
    "print(10000-357)"
   ]
  },
  {
   "cell_type": "markdown",
   "metadata": {},
   "source": [
    "## Generate Graphics for the ReGAL dataset and the Synthetic Data\n",
    "\n",
    "- initialize the sampler, if the train and test dataframes are porvided then the newly generated programs are not the same as the once in these datasets\n",
    "- the data can be stored in json-line format\n",
    "- next step is to initalize the interpreter, with this one can execute the programs and generate graphs\n",
    "    - the interpreter generates .png-files\n",
    "    - the size is for all graphics in one df the same (the aim is to keep size information which is relative to the other graphics thats why there can be a lot of whitespace this might be debatable)"
   ]
  },
  {
   "cell_type": "code",
   "execution_count": 5,
   "metadata": {},
   "outputs": [],
   "source": [
    "sampler=LOGOProgramSampler(generator, df_all) # this way only new programs are generated that are not in the train or test data\n",
    "\n",
    "# Synthetic data\n",
    "#synthetic_data = sampler.sample(9643) # sample 9643 new programs + the 357 programs from the train, dev and test data = 10000 programs\n",
    "#synthetic_data = pd.DataFrame(synthetic_data, columns=['Description', 'Program'])\n",
    "\n",
    "#save data as json-line file with current timestamp\n",
    "#timestamp = pd.Timestamp.now().strftime(\"%Y%m%d%H%M%S\")\n",
    "#synthetic_data.to_json(f\"data/synthetic_data_{timestamp}.jsonl\", orient=\"records\", lines=True)\n",
    "\n",
    "# load synthetic data\n",
    "synthetic_data = pd.read_json(\"data/synthetic_data_20250120143151.jsonl\", orient=\"records\", lines=True)"
   ]
  },
  {
   "cell_type": "code",
   "execution_count": 10,
   "metadata": {},
   "outputs": [],
   "source": [
    "# Generate graphics for the synthetic data \n",
    "#interpreter = PseudoProgramInterpreter_v2()\n",
    "#interpreter.process_and_save_graphics(synthetic_data, output_dir=\"logo_graphic/synthetic_v2\")"
   ]
  },
  {
   "cell_type": "code",
   "execution_count": 6,
   "metadata": {},
   "outputs": [],
   "source": [
    "interpreter = PseudoProgramInterpreter_v1()\n",
    "interpreter.process_and_save_graphics(synthetic_data, output_dir=\"logo_graphic/synthetic_v1\") # here graphics are thigthly cropped around the image\n",
    "# ca. 10.000 = 30 min"
   ]
  },
  {
   "cell_type": "code",
   "execution_count": 6,
   "metadata": {},
   "outputs": [],
   "source": [
    "# TEST \n",
    "# create a test dataset form the all_data\n",
    "test_indices = [98, 44, 100, 99, 200, 212, 214, 201, 53, 54, 282] # examples representing different shapes and combinations for testing purposes\n",
    "df_test_subset = df_all.loc[test_indices].reset_index(drop=True)\n",
    "#display(df_test_subset)\n",
    "\n",
    "interpreter = PseudoProgramInterpreter_v1()\n",
    "interpreter.process_and_save_graphics(df_test_subset, output_dir=\"logo_graphic/11testshapes\")"
   ]
  },
  {
   "cell_type": "code",
   "execution_count": 6,
   "metadata": {},
   "outputs": [],
   "source": [
    "# ReGAL DATA GRAPHICS\n",
    "interpreter = PseudoProgramInterpreter_v1()\n",
    "interpreter.process_and_save_graphics(df_all, output_dir=\"logo_graphic/all_ReGAL\")"
   ]
  },
  {
   "cell_type": "markdown",
   "metadata": {},
   "source": [
    "## ASCII-Transfromer\n",
    "\n",
    "based on the approach by Li and Ellis (2024). Similar to the authors  ensure a square image size (here 525x525) which I divied in 35x35 blocks with a pixel size of 15x15. In comparison the authors cropped a 512x512 section from the image around the center and divide it into 32x32 blocks with a pixel size of 16x16 each. Like the authors i then calculate the densty of black pixels and qunatizise this into 10 levels, which are represented by the ASCII numbers of 0-9. Each number represents a block resulting in a string with 35 lines, where each line has 35 numbers. A low density equals 0 and the higher the density of black pixels becomes the closer to 9 it will be. "
   ]
  },
  {
   "cell_type": "code",
   "execution_count": null,
   "metadata": {},
   "outputs": [],
   "source": [
    "# Synthetic data ASCII\n",
    "blocks=35 # possible block sizes, if pic 525x525: 1, 3, 5, 7, 15, 21, 25, 35, 75, 105, 175\n",
    "processor = ASCIIProcessor(n_blocks=blocks, m_blocks=blocks, levels=10) \n",
    "\n",
    "dir_images = \"logo_graphic/synthetic_v1/\"\n",
    "synthetic_data_ascii = processor.store_ascii_input(synthetic_data, dir_images)\n",
    "display(synthetic_data_ascii.head(2))"
   ]
  },
  {
   "cell_type": "code",
   "execution_count": 9,
   "metadata": {},
   "outputs": [
    {
     "data": {
      "text/html": [
       "<div>\n",
       "<style scoped>\n",
       "    .dataframe tbody tr th:only-of-type {\n",
       "        vertical-align: middle;\n",
       "    }\n",
       "\n",
       "    .dataframe tbody tr th {\n",
       "        vertical-align: top;\n",
       "    }\n",
       "\n",
       "    .dataframe thead th {\n",
       "        text-align: right;\n",
       "    }\n",
       "</style>\n",
       "<table border=\"1\" class=\"dataframe\">\n",
       "  <thead>\n",
       "    <tr style=\"text-align: right;\">\n",
       "      <th></th>\n",
       "      <th>Description</th>\n",
       "      <th>Program</th>\n",
       "    </tr>\n",
       "  </thead>\n",
       "  <tbody>\n",
       "    <tr>\n",
       "      <th>0</th>\n",
       "      <td>4 concentric square s</td>\n",
       "      <td>for i in range(5):\\n    embed(\"\"\"for j in rang...</td>\n",
       "    </tr>\n",
       "    <tr>\n",
       "      <th>1</th>\n",
       "      <td>6 sided snowflake with a medium line and a med...</td>\n",
       "      <td>for j in range(6):\\n    embed(\"\"\"forward(8)\\nl...</td>\n",
       "    </tr>\n",
       "  </tbody>\n",
       "</table>\n",
       "</div>"
      ],
      "text/plain": [
       "                                         Description  \\\n",
       "0                              4 concentric square s   \n",
       "1  6 sided snowflake with a medium line and a med...   \n",
       "\n",
       "                                             Program  \n",
       "0  for i in range(5):\\n    embed(\"\"\"for j in rang...  \n",
       "1  for j in range(6):\\n    embed(\"\"\"forward(8)\\nl...  "
      ]
     },
     "metadata": {},
     "output_type": "display_data"
    }
   ],
   "source": [
    "dir_images = \"logo_graphic/all_ReGAL/\"\n",
    "df_all_ascii = processor.store_ascii_input(df_all, dir_images)\n",
    "display(df_all_ascii.head(2))"
   ]
  },
  {
   "cell_type": "code",
   "execution_count": 8,
   "metadata": {},
   "outputs": [
    {
     "name": "stdout",
     "output_type": "stream",
     "text": [
      "a star with 8 points\n",
      "00000000000000000000000000000000000\n",
      "00000000001100000000000110000000000\n",
      "00000000002310000000001320000000000\n",
      "00000000002021000000012020000000000\n",
      "00000000002002100000120020000000000\n",
      "00000000002000210001200020000000000\n",
      "00000000002000021012000020000000000\n",
      "00000000002000002220000020000000000\n",
      "00000000002000001410000020000000000\n",
      "00000000002000012021000020000000000\n",
      "01222222223222242224222232222222210\n",
      "01300000002101300000310120000000310\n",
      "00120000002012000000021020000002100\n",
      "00012000002120000000002120000021000\n",
      "00001200002300000000000320000210000\n",
      "00000120014000000000000041002100000\n",
      "00000012122000000000000022121000000\n",
      "00000002402000000000000020420000000\n",
      "00000012122000000000000022121000000\n",
      "00000120014000000000000041002100000\n",
      "00001200002300000000000320000210000\n",
      "00012000002120000000002120000021000\n",
      "00120000002012000000021020000002100\n",
      "01300000002101300000310120000000310\n",
      "01222222223222242224222232222222210\n",
      "00000000002000012021000020000000000\n",
      "00000000002000001410000020000000000\n",
      "00000000002000002220000020000000000\n",
      "00000000002000021012000020000000000\n",
      "00000000002000210001200020000000000\n",
      "00000000002002100000120020000000000\n",
      "00000000002021000000012020000000000\n",
      "00000000002310000000001320000000000\n",
      "00000000001100000000000110000000000\n",
      "00000000000000000000000000000000000\n"
     ]
    }
   ],
   "source": [
    "print(synthetic_data_ascii['Description'].iloc[32])\n",
    "print(synthetic_data_ascii['ASCII-Art'].iloc[32])"
   ]
  },
  {
   "cell_type": "markdown",
   "metadata": {},
   "source": [
    "## Design Splits in Train and Test given generalization aspect\n",
    "\n",
    "- length generalization:\n",
    "    - criterion: semantic length\n",
    "- mix and match concepts\n",
    "    - compose different concepts\n",
    "    - switch concept order\n",
    "- apply general principles\n",
    "    - compose new operations\n",
    "    - add operation functunality"
   ]
  },
  {
   "cell_type": "code",
   "execution_count": 9,
   "metadata": {},
   "outputs": [
    {
     "data": {
      "text/plain": [
       "10000"
      ]
     },
     "execution_count": 9,
     "metadata": {},
     "output_type": "execute_result"
    }
   ],
   "source": [
    "df_all_syn = pd.concat([df_all_ascii, synthetic_data_ascii], ignore_index=True)\n",
    "len(df_all_syn)"
   ]
  },
  {
   "cell_type": "code",
   "execution_count": 10,
   "metadata": {},
   "outputs": [
    {
     "name": "stdout",
     "output_type": "stream",
     "text": [
      "9000\n",
      "9003\n",
      "Train:\n"
     ]
    },
    {
     "data": {
      "text/html": [
       "<div>\n",
       "<style scoped>\n",
       "    .dataframe tbody tr th:only-of-type {\n",
       "        vertical-align: middle;\n",
       "    }\n",
       "\n",
       "    .dataframe tbody tr th {\n",
       "        vertical-align: top;\n",
       "    }\n",
       "\n",
       "    .dataframe thead th {\n",
       "        text-align: right;\n",
       "    }\n",
       "</style>\n",
       "<table border=\"1\" class=\"dataframe\">\n",
       "  <thead>\n",
       "    <tr style=\"text-align: right;\">\n",
       "      <th></th>\n",
       "      <th>Description</th>\n",
       "      <th>Program</th>\n",
       "      <th>ASCII-Art</th>\n",
       "      <th>Semantic Length</th>\n",
       "    </tr>\n",
       "  </thead>\n",
       "  <tbody>\n",
       "    <tr>\n",
       "      <th>0</th>\n",
       "      <td>a 5 pointed star</td>\n",
       "      <td>for i in range(5):\\n    forward(16)\\n    left(...</td>\n",
       "      <td>00000000000000000000000000000000000\\n000000000...</td>\n",
       "      <td>5</td>\n",
       "    </tr>\n",
       "    <tr>\n",
       "      <th>1</th>\n",
       "      <td>a greek spiral with 5 turns</td>\n",
       "      <td>for i in range(6):\\n    forward(1 * i)\\n    le...</td>\n",
       "      <td>00000000000000000000000000000000000\\n000000000...</td>\n",
       "      <td>6</td>\n",
       "    </tr>\n",
       "  </tbody>\n",
       "</table>\n",
       "</div>"
      ],
      "text/plain": [
       "                   Description  \\\n",
       "0             a 5 pointed star   \n",
       "1  a greek spiral with 5 turns   \n",
       "\n",
       "                                             Program  \\\n",
       "0  for i in range(5):\\n    forward(16)\\n    left(...   \n",
       "1  for i in range(6):\\n    forward(1 * i)\\n    le...   \n",
       "\n",
       "                                           ASCII-Art  Semantic Length  \n",
       "0  00000000000000000000000000000000000\\n000000000...                5  \n",
       "1  00000000000000000000000000000000000\\n000000000...                6  "
      ]
     },
     "metadata": {},
     "output_type": "display_data"
    },
    {
     "data": {
      "text/html": [
       "<div>\n",
       "<style scoped>\n",
       "    .dataframe tbody tr th:only-of-type {\n",
       "        vertical-align: middle;\n",
       "    }\n",
       "\n",
       "    .dataframe tbody tr th {\n",
       "        vertical-align: top;\n",
       "    }\n",
       "\n",
       "    .dataframe thead th {\n",
       "        text-align: right;\n",
       "    }\n",
       "</style>\n",
       "<table border=\"1\" class=\"dataframe\">\n",
       "  <thead>\n",
       "    <tr style=\"text-align: right;\">\n",
       "      <th></th>\n",
       "      <th>Description</th>\n",
       "      <th>Program</th>\n",
       "      <th>ASCII-Art</th>\n",
       "      <th>Semantic Length</th>\n",
       "    </tr>\n",
       "  </thead>\n",
       "  <tbody>\n",
       "    <tr>\n",
       "      <th>9001</th>\n",
       "      <td>separated sequence of shapes: a small 7-gon, a...</td>\n",
       "      <td>for i in range(7):\\n    forward(2)\\n    left(5...</td>\n",
       "      <td>00000000000000000000000000000000000\\n000000000...</td>\n",
       "      <td>1363362</td>\n",
       "    </tr>\n",
       "    <tr>\n",
       "      <th>9002</th>\n",
       "      <td>separated sequence of shapes: a small 7-gon, a...</td>\n",
       "      <td>for i in range(7):\\n    forward(2)\\n    left(5...</td>\n",
       "      <td>00000000000000000000000000000000000\\n000000000...</td>\n",
       "      <td>1363362</td>\n",
       "    </tr>\n",
       "  </tbody>\n",
       "</table>\n",
       "</div>"
      ],
      "text/plain": [
       "                                            Description  \\\n",
       "9001  separated sequence of shapes: a small 7-gon, a...   \n",
       "9002  separated sequence of shapes: a small 7-gon, a...   \n",
       "\n",
       "                                                Program  \\\n",
       "9001  for i in range(7):\\n    forward(2)\\n    left(5...   \n",
       "9002  for i in range(7):\\n    forward(2)\\n    left(5...   \n",
       "\n",
       "                                              ASCII-Art  Semantic Length  \n",
       "9001  00000000000000000000000000000000000\\n000000000...          1363362  \n",
       "9002  00000000000000000000000000000000000\\n000000000...          1363362  "
      ]
     },
     "metadata": {},
     "output_type": "display_data"
    },
    {
     "name": "stdout",
     "output_type": "stream",
     "text": [
      "\n",
      "Test:\n"
     ]
    },
    {
     "data": {
      "text/html": [
       "<div>\n",
       "<style scoped>\n",
       "    .dataframe tbody tr th:only-of-type {\n",
       "        vertical-align: middle;\n",
       "    }\n",
       "\n",
       "    .dataframe tbody tr th {\n",
       "        vertical-align: top;\n",
       "    }\n",
       "\n",
       "    .dataframe thead th {\n",
       "        text-align: right;\n",
       "    }\n",
       "</style>\n",
       "<table border=\"1\" class=\"dataframe\">\n",
       "  <thead>\n",
       "    <tr style=\"text-align: right;\">\n",
       "      <th></th>\n",
       "      <th>Description</th>\n",
       "      <th>Program</th>\n",
       "      <th>ASCII-Art</th>\n",
       "      <th>Semantic Length</th>\n",
       "    </tr>\n",
       "  </thead>\n",
       "  <tbody>\n",
       "    <tr>\n",
       "      <th>9003</th>\n",
       "      <td>a 3 sided snowflake with arms of connected seq...</td>\n",
       "      <td>for j in range(3):\\n    embed(\"\"\"for i in rang...</td>\n",
       "      <td>00000000000000000000000000000000000\\n000000000...</td>\n",
       "      <td>1368450</td>\n",
       "    </tr>\n",
       "    <tr>\n",
       "      <th>9004</th>\n",
       "      <td>connected sequence of shapes: a small 7-gon, a...</td>\n",
       "      <td>for i in range(7):\\n    forward(2)\\n    left(5...</td>\n",
       "      <td>00000000000000000000000000000000000\\n000000000...</td>\n",
       "      <td>1368451</td>\n",
       "    </tr>\n",
       "  </tbody>\n",
       "</table>\n",
       "</div>"
      ],
      "text/plain": [
       "                                            Description  \\\n",
       "9003  a 3 sided snowflake with arms of connected seq...   \n",
       "9004  connected sequence of shapes: a small 7-gon, a...   \n",
       "\n",
       "                                                Program  \\\n",
       "9003  for j in range(3):\\n    embed(\"\"\"for i in rang...   \n",
       "9004  for i in range(7):\\n    forward(2)\\n    left(5...   \n",
       "\n",
       "                                              ASCII-Art  Semantic Length  \n",
       "9003  00000000000000000000000000000000000\\n000000000...          1368450  \n",
       "9004  00000000000000000000000000000000000\\n000000000...          1368451  "
      ]
     },
     "metadata": {},
     "output_type": "display_data"
    },
    {
     "data": {
      "text/html": [
       "<div>\n",
       "<style scoped>\n",
       "    .dataframe tbody tr th:only-of-type {\n",
       "        vertical-align: middle;\n",
       "    }\n",
       "\n",
       "    .dataframe tbody tr th {\n",
       "        vertical-align: top;\n",
       "    }\n",
       "\n",
       "    .dataframe thead th {\n",
       "        text-align: right;\n",
       "    }\n",
       "</style>\n",
       "<table border=\"1\" class=\"dataframe\">\n",
       "  <thead>\n",
       "    <tr style=\"text-align: right;\">\n",
       "      <th></th>\n",
       "      <th>Description</th>\n",
       "      <th>Program</th>\n",
       "      <th>ASCII-Art</th>\n",
       "      <th>Semantic Length</th>\n",
       "    </tr>\n",
       "  </thead>\n",
       "  <tbody>\n",
       "    <tr>\n",
       "      <th>9998</th>\n",
       "      <td>separated sequence of shapes: a small circle, ...</td>\n",
       "      <td>for i in range(HALF_INF):\\n    forward(EPS_DIS...</td>\n",
       "      <td>00000000000000000000000000000000000\\n000000000...</td>\n",
       "      <td>68407622226360</td>\n",
       "    </tr>\n",
       "    <tr>\n",
       "      <th>9999</th>\n",
       "      <td>separated sequence of shapes: a small circle, ...</td>\n",
       "      <td>for i in range(HALF_INF):\\n    forward(EPS_DIS...</td>\n",
       "      <td>00000000000000000000000000000000000\\n000000000...</td>\n",
       "      <td>68408672018760</td>\n",
       "    </tr>\n",
       "  </tbody>\n",
       "</table>\n",
       "</div>"
      ],
      "text/plain": [
       "                                            Description  \\\n",
       "9998  separated sequence of shapes: a small circle, ...   \n",
       "9999  separated sequence of shapes: a small circle, ...   \n",
       "\n",
       "                                                Program  \\\n",
       "9998  for i in range(HALF_INF):\\n    forward(EPS_DIS...   \n",
       "9999  for i in range(HALF_INF):\\n    forward(EPS_DIS...   \n",
       "\n",
       "                                              ASCII-Art  Semantic Length  \n",
       "9998  00000000000000000000000000000000000\\n000000000...   68407622226360  \n",
       "9999  00000000000000000000000000000000000\\n000000000...   68408672018760  "
      ]
     },
     "metadata": {},
     "output_type": "display_data"
    },
    {
     "name": "stdout",
     "output_type": "stream",
     "text": [
      "\n",
      "Train set size: 8006\n",
      "\n",
      "Validation set size: 997\n",
      "\n",
      "Test set size: 997\n"
     ]
    }
   ],
   "source": [
    "from _6_semantic_length import SemanticLength\n",
    "\n",
    "sem_length = SemanticLength()\n",
    "\n",
    "df_all_syn['Semantic Length'] = df_all_syn['Program'].apply(sem_length.calc_semantic_length)\n",
    "df_all_syn=df_all_syn.sort_values(by=\"Semantic Length\").reset_index(drop=True)\n",
    "\n",
    "# Determine the split index\n",
    "test_start_id = int(len(df_all_syn)*0.9)        # 10% for the test set\n",
    "print(test_start_id)\n",
    "# check and adjust the split index if both train and test contain programs with the same semantic length\n",
    "while (\n",
    "    test_start_id < len(df_all_syn) and \n",
    "    df_all_syn.loc[test_start_id, 'Semantic Length'] == df_all_syn.loc[test_start_id - 1, 'Semantic Length']\n",
    "):\n",
    "    test_start_id += 1\n",
    "print(test_start_id)\n",
    "\n",
    "# Create train and test splits\n",
    "train_data = df_all_syn.iloc[:test_start_id]\n",
    "test_data = df_all_syn.iloc[test_start_id:]\n",
    "\n",
    "print(\"Train:\")\n",
    "display(train_data.head(2))\n",
    "display(train_data.tail(2))\n",
    "print(\"\\nTest:\")\n",
    "display(test_data.head(2))\n",
    "display(test_data.tail(2))\n",
    "\n",
    "# Create a validation dataset from the training data about the same size as the test data\n",
    "rs = 42\n",
    "length = int(len(test_data))\n",
    "validation_data = train_data.sample(n=length, random_state=rs)  \n",
    "train_data = train_data.drop(validation_data.index)\n",
    "\n",
    "print(\"\\nTrain set size:\", len(train_data))\n",
    "print(\"\\nValidation set size:\", len(validation_data))\n",
    "print(\"\\nTest set size:\", len(test_data))"
   ]
  },
  {
   "cell_type": "code",
   "execution_count": 16,
   "metadata": {},
   "outputs": [],
   "source": [
    "#save data as json-line file with current timestamp\n",
    "#timestamp = pd.Timestamp.now().strftime(\"%Y%m%d%H%M%S\")\n",
    "#train_data.to_json(f\"data/length_train_data_ascii_{timestamp}.jsonl\", orient=\"records\", lines=True)\n",
    "#validation_data.to_json(f\"data/length_val_data_ascii_{timestamp}.jsonl\", orient=\"records\", lines=True)\n",
    "#test_data.to_json(f\"data/length_test_data_ascii_{timestamp}.jsonl\", orient=\"records\", lines=True)"
   ]
  },
  {
   "cell_type": "markdown",
   "metadata": {},
   "source": [
    "### Store on HF"
   ]
  },
  {
   "cell_type": "code",
   "execution_count": 11,
   "metadata": {},
   "outputs": [],
   "source": [
    "# generate hf-hub dataset and push to hf-hub\n",
    "from datasets import Dataset, DatasetDict"
   ]
  },
  {
   "cell_type": "code",
   "execution_count": 15,
   "metadata": {},
   "outputs": [
    {
     "data": {
      "application/vnd.jupyter.widget-view+json": {
       "model_id": "0296f4c5ad1647db84bf653d86add54e",
       "version_major": 2,
       "version_minor": 0
      },
      "text/plain": [
       "Uploading the dataset shards:   0%|          | 0/1 [00:00<?, ?it/s]"
      ]
     },
     "metadata": {},
     "output_type": "display_data"
    },
    {
     "data": {
      "application/vnd.jupyter.widget-view+json": {
       "model_id": "5157b5581a224defaf6d607f320b9a6b",
       "version_major": 2,
       "version_minor": 0
      },
      "text/plain": [
       "Creating parquet from Arrow format:   0%|          | 0/9 [00:00<?, ?ba/s]"
      ]
     },
     "metadata": {},
     "output_type": "display_data"
    },
    {
     "data": {
      "application/vnd.jupyter.widget-view+json": {
       "model_id": "5cbebb2e828942f98ddc18f92e979561",
       "version_major": 2,
       "version_minor": 0
      },
      "text/plain": [
       "Uploading the dataset shards:   0%|          | 0/1 [00:00<?, ?it/s]"
      ]
     },
     "metadata": {},
     "output_type": "display_data"
    },
    {
     "data": {
      "application/vnd.jupyter.widget-view+json": {
       "model_id": "475b4e6ec3c54ea4b69fb658a2c28845",
       "version_major": 2,
       "version_minor": 0
      },
      "text/plain": [
       "Creating parquet from Arrow format:   0%|          | 0/1 [00:00<?, ?ba/s]"
      ]
     },
     "metadata": {},
     "output_type": "display_data"
    },
    {
     "data": {
      "application/vnd.jupyter.widget-view+json": {
       "model_id": "85eafdebd4704d9882efc444000653ab",
       "version_major": 2,
       "version_minor": 0
      },
      "text/plain": [
       "Uploading the dataset shards:   0%|          | 0/1 [00:00<?, ?it/s]"
      ]
     },
     "metadata": {},
     "output_type": "display_data"
    },
    {
     "data": {
      "application/vnd.jupyter.widget-view+json": {
       "model_id": "1231fa1ecc1948989eeab71c0fe0ea19",
       "version_major": 2,
       "version_minor": 0
      },
      "text/plain": [
       "Creating parquet from Arrow format:   0%|          | 0/1 [00:00<?, ?ba/s]"
      ]
     },
     "metadata": {},
     "output_type": "display_data"
    },
    {
     "data": {
      "text/plain": [
       "CommitInfo(commit_url='https://huggingface.co/datasets/ruthchy/semantic-length-generalization-logo-data-desc-ascii_35/commit/cee0d41d5711bacd2f0d0aa151a884a7fe1f7132', commit_message='Upload dataset', commit_description='', oid='cee0d41d5711bacd2f0d0aa151a884a7fe1f7132', pr_url=None, repo_url=RepoUrl('https://huggingface.co/datasets/ruthchy/semantic-length-generalization-logo-data-desc-ascii_35', endpoint='https://huggingface.co', repo_type='dataset', repo_id='ruthchy/semantic-length-generalization-logo-data-desc-ascii_35'), pr_revision=None, pr_num=None)"
      ]
     },
     "execution_count": 15,
     "metadata": {},
     "output_type": "execute_result"
    }
   ],
   "source": [
    "def create_dataset(df):\n",
    "    return Dataset.from_pandas(df[['Description', 'ASCII-Art', 'Program']], preserve_index=False)\n",
    "\n",
    "dataset_dict = DatasetDict({\n",
    "    split: create_dataset(df)  \n",
    "    for split, df in zip([\"train\", \"validation\", \"test\"], [train_data, validation_data, test_data])\n",
    "})\n",
    "\n",
    "dataset_dict.push_to_hub(f\"ruthchy/semantic-length-generalization-logo-data-desc-ascii_{blocks}\", private=False)"
   ]
  }
 ],
 "metadata": {
  "kernelspec": {
   "display_name": "ReGAL_env",
   "language": "python",
   "name": "python3"
  },
  "language_info": {
   "codemirror_mode": {
    "name": "ipython",
    "version": 3
   },
   "file_extension": ".py",
   "mimetype": "text/x-python",
   "name": "python",
   "nbconvert_exporter": "python",
   "pygments_lexer": "ipython3",
   "version": "3.10.16"
  }
 },
 "nbformat": 4,
 "nbformat_minor": 2
}
